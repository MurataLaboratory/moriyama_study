{
 "cells": [
  {
   "cell_type": "markdown",
   "metadata": {
    "id": "Fll285jLFATl"
   },
   "source": [
    "# 参考文献\n",
    "\n",
    "[Visualizing Bert Embeddings](https://krishansubudhi.github.io/deeplearning/2020/08/27/bert-embeddings-visualization.html)"
   ]
  },
  {
   "cell_type": "code",
   "execution_count": null,
   "metadata": {
    "id": "oNAKpQRGE82b"
   },
   "outputs": [],
   "source": [
    "import torchtext\n",
    "print(torchtext.__version__)"
   ]
  },
  {
   "cell_type": "code",
   "execution_count": null,
   "metadata": {
    "id": "Fy2mkQTcjnSZ"
   },
   "outputs": [],
   "source": [
    "print('hello world')"
   ]
  },
  {
   "cell_type": "code",
   "execution_count": null,
   "metadata": {
    "id": "GOwNLm4Ujtk2"
   },
   "outputs": [],
   "source": [
    "from google.colab import drive\n",
    "drive.mount('/content/dirve')"
   ]
  },
  {
   "cell_type": "code",
   "execution_count": null,
   "metadata": {
    "id": "CdSVnt42jveG"
   },
   "outputs": [],
   "source": [
    "!pip install transformers"
   ]
  },
  {
   "cell_type": "code",
   "execution_count": null,
   "metadata": {
    "id": "UhUPukN01OSp"
   },
   "outputs": [],
   "source": [
    "import torch\n",
    "import torch.nn as nn\n",
    "import torch.optim as optim\n",
    "\n",
    "from torchtext.data import Field, BucketIterator\n",
    "\n",
    "import numpy as np\n",
    "\n",
    "import random\n",
    "import math\n",
    "import time\n",
    "device = torch.device(\"cuda\" if torch.cuda.is_available() else \"cpu\")"
   ]
  },
  {
   "cell_type": "code",
   "execution_count": null,
   "metadata": {
    "id": "pKPg65651YwJ"
   },
   "outputs": [],
   "source": [
    "import torchtext\n",
    "import torch\n",
    "from torchtext import data\n",
    "from torchtext import datasets\n",
    "import pandas as pd"
   ]
  },
  {
   "cell_type": "code",
   "execution_count": null,
   "metadata": {
    "id": "YIFi15Pxkx7-"
   },
   "outputs": [],
   "source": [
    "from transformers import BertJapaneseTokenizer, BertForPreTraining\n",
    "tok = BertJapaneseTokenizer.from_pretrained('cl-tohoku/bert-base-japanese')"
   ]
  },
  {
   "cell_type": "code",
   "execution_count": null,
   "metadata": {
    "id": "Q0V-tqIM-bbC"
   },
   "outputs": [],
   "source": [
    "def tokenizer(text):\n",
    "  return tok.tokenize(text)"
   ]
  },
  {
   "cell_type": "code",
   "execution_count": null,
   "metadata": {
    "id": "X_hhJrYExduA"
   },
   "outputs": [],
   "source": [
    "SRC = data.Field(sequential=True, tokenize = tokenizer, init_token='<sos>', eos_token='<eos>', lower = True)\n",
    "TRG = data.Field(sequential=True, tokenize = tokenizer, init_token='<sos>', eos_token='<eos>', lower = True)"
   ]
  },
  {
   "cell_type": "code",
   "execution_count": null,
   "metadata": {
    "id": "m7dT_GJr31Ju"
   },
   "outputs": [],
   "source": [
    "# 重複のないデータセットか重複のあるデータセットを選ぶ\n",
    "# flagがTrueの時重複のないデータを返す\n",
    "def choose_dataset(flag = False):\n",
    "  if flag:\n",
    "    train, val, test = data.TabularDataset.splits(\n",
    "        path=\"/content/dirve/My Drive/Colab Notebooks/data/\", train='one_train.tsv',\n",
    "        validation='one_val.tsv', test='one_test.tsv', format='tsv',\n",
    "        fields=[('SRC', SRC), ('TRG', TRG)])\n",
    "    filename = \"/content/dirve/My Drive/Colab Notebooks/csv/one_result_bertSeq2seq.csv\"\n",
    "  else:\n",
    "    train, val, test = data.TabularDataset.splits(\n",
    "        path=\"/content/dirve/My Drive/Colab Notebooks/data/\", train='train.tsv',\n",
    "        validation='val.tsv', test='test.tsv', format='tsv',\n",
    "        fields=[('SRC', SRC), ('TRG', TRG)])\n",
    "    filename = \"/content/dirve/My Drive/Colab Notebooks/csv/result_bertSeq2seq.csv\"\n",
    "  \n",
    "  return train, val, test, filename"
   ]
  },
  {
   "cell_type": "code",
   "execution_count": null,
   "metadata": {
    "id": "S9QpYFSrqdfU"
   },
   "outputs": [],
   "source": [
    "train, val, test, filename= choose_dataset(False)"
   ]
  },
  {
   "cell_type": "code",
   "execution_count": null,
   "metadata": {
    "id": "uMnpIaSa2Bkw"
   },
   "outputs": [],
   "source": [
    "SRC.build_vocab(train)\n",
    "TRG.build_vocab(train)"
   ]
  },
  {
   "cell_type": "code",
   "execution_count": null,
   "metadata": {
    "id": "vtgYhcjsBf8t"
   },
   "outputs": [],
   "source": [
    "bert_model = BertForPreTraining.from_pretrained(\n",
    "    \"cl-tohoku/bert-base-japanese\", # 日本語Pre trainedモデルの指定\n",
    "    num_labels = 2, # ラベル数（今回はBinayなので2、数値を増やせばマルチラベルも対応可）\n",
    "    output_attentions = False, # アテンションベクトルを出力するか\n",
    "    output_hidden_states = True, # 隠れ層を出力するか\n",
    ")"
   ]
  },
  {
   "cell_type": "code",
   "execution_count": null,
   "metadata": {
    "id": "guAZOeqw8S4P"
   },
   "outputs": [],
   "source": [
    "train_batch_size = 100\n",
    "test_batch_size = 100\n",
    "eval_batch_size = 100\n",
    "train_iter, val_iter, test_iter = data.BucketIterator.splits((train, val, test), sort = False,  batch_sizes = (train_batch_size,eval_batch_size, test_batch_size), device= device)"
   ]
  },
  {
   "cell_type": "code",
   "execution_count": null,
   "metadata": {
    "id": "n5p6myVPNRoV"
   },
   "outputs": [],
   "source": [
    "class Encoder(nn.Module):\n",
    "  def __init__(self, input_dim, emb_dim, hid_dim, n_layers, dropout):\n",
    "    super().__init__()\n",
    "    self.hid_dim = hid_dim\n",
    "    self.n_layers = n_layers\n",
    "    #self.embedding = nn.Embedding(input_dim, emb_dim)\n",
    "    self.embedding = bert_model.get_input_embeddings()\n",
    "    self.rnn = nn.LSTM(emb_dim, hid_dim, n_layers, dropout = dropout)\n",
    "    self.dropout = nn.Dropout(dropout)\n",
    "\n",
    "  def forward(self, src):\n",
    "    embedded = self.dropout(self.embedding(src))\n",
    "    outputs, (hidden, cell) = self.rnn(embedded)\n",
    "    return hidden, cell"
   ]
  },
  {
   "cell_type": "code",
   "execution_count": null,
   "metadata": {
    "id": "lkYqVfacNUnq"
   },
   "outputs": [],
   "source": [
    "\n",
    "class Decoder(nn.Module):\n",
    "  def __init__(self, output_dim, emb_dim, hid_dim, n_layers, dropout):\n",
    "    super().__init__()\n",
    "    self.output_dim = output_dim\n",
    "    self.hid_dim = hid_dim\n",
    "    self.n_layers = n_layers\n",
    "\n",
    "    self.embedding = nn.Embedding(output_dim, emb_dim)\n",
    "    # self.embedding = bert_model.get_input_embeddings()\n",
    "    self.rnn = nn.LSTM(emb_dim, hid_dim, n_layers, dropout = dropout)\n",
    "\n",
    "    self.fc_out = nn.Linear(hid_dim, output_dim)\n",
    "    # self.fc_out = bert_model.get_output_embeddings()\n",
    "    self.dropout = nn.Dropout(dropout)\n",
    "  \n",
    "  def forward(self, input, hidden, cell):\n",
    "    input = input.unsqueeze(0)\n",
    "    embedded = self.dropout(self.embedding(input))\n",
    "    output, (hidden, cell) = self.rnn(embedded, (hidden, cell))\n",
    "    #print(output.squeeze(0).size())\n",
    "    prediction = self.fc_out(output.squeeze(0))\n",
    "\n",
    "    return prediction, hidden, cell"
   ]
  },
  {
   "cell_type": "code",
   "execution_count": null,
   "metadata": {
    "id": "aDd0u67wNWXp"
   },
   "outputs": [],
   "source": [
    "class Seq2Seq(nn.Module):\n",
    "  def __init__(self, encoder, decoder, device):\n",
    "    super().__init__()\n",
    "    self.encoder = encoder\n",
    "    self.decoder = decoder\n",
    "    self.device = device\n",
    "\n",
    "  def forward(self, src, trg, teacher_forcing_ratio = 0.5):\n",
    "    batch_size = trg.shape[1]\n",
    "    trg_len = trg.shape[0]\n",
    "    trg_vocab_size = self.decoder.output_dim\n",
    "\n",
    "    outputs = torch.zeros(trg_len, batch_size, trg_vocab_size).to(self.device)\n",
    "\n",
    "    hidden, cell = self.encoder(src)\n",
    "\n",
    "    output = trg[0,:]\n",
    "    #print(input)\n",
    "\n",
    "    for t in range(1, trg_len):\n",
    "      output, hidden, cell = self.decoder(output, hidden, cell)\n",
    "\n",
    "      outputs[t] = output\n",
    "      teacher_force = random.random() < teacher_forcing_ratio\n",
    "      top1 = output.argmax(1)\n",
    "      output = (trg[t] if teacher_force else top1)\n",
    "    \n",
    "    return outputs"
   ]
  },
  {
   "cell_type": "code",
   "execution_count": null,
   "metadata": {
    "id": "md_3rgFiNYOI"
   },
   "outputs": [],
   "source": [
    "INPUT_DIM = len(SRC.vocab)\n",
    "OUTPUT_DIM = len(TRG.vocab)\n",
    "# OUTPUT_DIM = 3454\n",
    "ENC_EMB_DIM = 768\n",
    "DEC_EMB_DIM = 768\n",
    "ENC_HID_DIM = 256\n",
    "DEC_HID_DIM = 256\n",
    "N_LAYERS = 1\n",
    "ENC_DROPOUT = 0.3\n",
    "DEC_DROPOUT = 0.3\n",
    "\n",
    "enc = Encoder(INPUT_DIM, ENC_EMB_DIM, ENC_HID_DIM, N_LAYERS, ENC_DROPOUT)\n",
    "dec = Decoder(OUTPUT_DIM, DEC_EMB_DIM, DEC_HID_DIM, N_LAYERS, DEC_DROPOUT)\n",
    "\n",
    "model = Seq2Seq(enc, dec, device).to(device)"
   ]
  },
  {
   "cell_type": "code",
   "execution_count": null,
   "metadata": {
    "id": "5gB1IPOOPYZ0"
   },
   "outputs": [],
   "source": [
    "def init_weights(m):\n",
    "    for name, param in m.named_parameters():\n",
    "        nn.init.uniform_(param.data, -0.08, 0.08)\n",
    "\n",
    "model.apply(init_weights)"
   ]
  },
  {
   "cell_type": "code",
   "execution_count": null,
   "metadata": {
    "id": "-uPBQjfDQauC"
   },
   "outputs": [],
   "source": [
    "optimizer = optim.Adam(model.parameters())"
   ]
  },
  {
   "cell_type": "code",
   "execution_count": null,
   "metadata": {
    "id": "lfbg-dTYQbK6"
   },
   "outputs": [],
   "source": [
    "TRG_PAD_IDX = SRC.vocab.stoi[TRG.pad_token]\n",
    "\n",
    "criterion = nn.CrossEntropyLoss(ignore_index = TRG_PAD_IDX)"
   ]
  },
  {
   "cell_type": "code",
   "execution_count": null,
   "metadata": {
    "id": "lYFXEtIYTWrR"
   },
   "outputs": [],
   "source": [
    "def train(model, iterator, optimizer, criterion, clip):\n",
    "  model.train()\n",
    "\n",
    "  epoch_loss = 0\n",
    "\n",
    "  for i, batch in enumerate(iterator):\n",
    "    src = batch.SRC\n",
    "    trg = batch.TRG\n",
    "    optimizer.zero_grad()\n",
    "\n",
    "    output = model(src, trg)\n",
    "\n",
    "    output_dim = output.shape[-1]\n",
    "    output = output[:].view(-1, output_dim)\n",
    "    trg = trg[:].view(-1)\n",
    "\n",
    "    loss = criterion(output, trg)\n",
    "    loss.backward()\n",
    "    torch.nn.utils.clip_grad_norm(model.parameters(), clip)\n",
    "    optimizer.step()\n",
    "\n",
    "    epoch_loss += loss.item()\n",
    "\n",
    "  return epoch_loss / len(iterator)"
   ]
  },
  {
   "cell_type": "code",
   "execution_count": null,
   "metadata": {
    "id": "7wbEPozHTYtW"
   },
   "outputs": [],
   "source": [
    "def evaluate(model, iterator, criterion):\n",
    "  model.eval()\n",
    "\n",
    "  epoch_loss = 0\n",
    "\n",
    "  with torch.no_grad():\n",
    "\n",
    "    for i, batch in enumerate(iterator):\n",
    "\n",
    "      src = batch.SRC\n",
    "      trg = batch.TRG\n",
    "\n",
    "      output = model(src, trg)\n",
    "\n",
    "      output_dim = output.shape[-1]\n",
    "\n",
    "      output = output[:].view(-1, output_dim)\n",
    "      trg = trg[:].view(-1)\n",
    "\n",
    "      loss = criterion(output, trg)\n",
    "      epoch_loss += loss.item()\n",
    "\n",
    "    return epoch_loss / len(iterator)"
   ]
  },
  {
   "cell_type": "code",
   "execution_count": null,
   "metadata": {
    "id": "b4SoIGbaTast"
   },
   "outputs": [],
   "source": [
    "def epoch_time(start_time, end_time):\n",
    "  elapsed_time = end_time - start_time\n",
    "  elapsed_mins = int(elapsed_time / 60)\n",
    "  elapsed_secs = int(elapsed_time - (elapsed_mins*60))\n",
    "  return elapsed_mins, elapsed_secs"
   ]
  },
  {
   "cell_type": "code",
   "execution_count": null,
   "metadata": {
    "id": "013GE2MATch3"
   },
   "outputs": [],
   "source": [
    "epochs = 300\n",
    "clip = 1\n",
    "best_valid_loss = float('inf')\n",
    "best_model = None\n",
    "\n",
    "for epoch in range(epochs):\n",
    "    \n",
    "    start_time = time.time()\n",
    "    \n",
    "    train_loss = train(model, train_iter, optimizer, criterion, clip)\n",
    "    valid_loss = evaluate(model, val_iter, criterion)\n",
    "    \n",
    "    end_time = time.time()\n",
    "    \n",
    "    epoch_mins, epoch_secs = epoch_time(start_time, end_time)\n",
    "    \n",
    "    if valid_loss < best_valid_loss:\n",
    "        best_valid_loss = valid_loss\n",
    "        best_model = model\n",
    "    print(\"-\"*65)\n",
    "    print(f'Epoch: {epoch+1:02} | Time: {epoch_mins}m {epoch_secs}s | Train Loss: {train_loss:.3f} | Val. Loss: {valid_loss:.3f}')"
   ]
  },
  {
   "cell_type": "code",
   "execution_count": null,
   "metadata": {
    "id": "jHH4C93kTOz9"
   },
   "outputs": [],
   "source": [
    "torch.save(best_model.state_dict(), '/content/dirve/My Drive/Colab Notebooks/model/bert_embedded_seq2seq.pth')"
   ]
  },
  {
   "cell_type": "code",
   "execution_count": null,
   "metadata": {
    "id": "sFIuAq-7Rac5"
   },
   "outputs": [],
   "source": [
    "# model.state_dict(torch.load(\"/content/dirve/My Drive/Colab Notebooks/model/bert_embedded_seq2seq.pth\"))"
   ]
  },
  {
   "cell_type": "code",
   "execution_count": null,
   "metadata": {
    "id": "wE3P67dCRgQ_"
   },
   "outputs": [],
   "source": [
    "def gen_sentence(sentence, src_field, trg_field, model, max_len = 50):\n",
    "  model.eval()\n",
    "\n",
    "  tokens = [src_field.init_token] + tokenizer(sentence) + [src_field.eos_token]\n",
    "  \n",
    "  src_index = [src_field.vocab.stoi[i] for i in tokens]\n",
    "  src_tensor = torch.LongTensor(src_index).unsqueeze(1).to(device)\n",
    "  src_len = torch.LongTensor([len(src_index)]).to(device)\n",
    "  with torch.no_grad():\n",
    "    hidden, cell = model.encoder(src_tensor)\n",
    "  \n",
    "  trg_index = [trg_field.vocab.stoi[trg_field.init_token]]\n",
    "  for i in range(max_len):\n",
    "    trg_tensor = torch.LongTensor([trg_index[-1]]).to(device)\n",
    "    with torch.no_grad():\n",
    "      output, hidden, cell = model.decoder(trg_tensor, hidden, cell)\n",
    "    \n",
    "    pred_token = output.argmax(1).item()\n",
    "    trg_index.append(pred_token)\n",
    "    if pred_token == trg_field.vocab.stoi[trg_field.eos_token]:\n",
    "      break\n",
    "\n",
    "  trg_tokens = [trg_field.vocab.itos[i] for i in trg_index]\n",
    "  if len(trg_tokens) == 2:\n",
    "    print(trg_tokens)\n",
    "    trg_tokens = [\" \"]\n",
    "    trg_tokens = [src_field.init_token] + trg_tokens + [src_field.eos_token]\n",
    "  return trg_tokens"
   ]
  },
  {
   "cell_type": "code",
   "execution_count": null,
   "metadata": {
    "id": "CO_JnfDJfvdF"
   },
   "outputs": [],
   "source": [
    "def gen_sentence_list(path): \n",
    "  col, pred = [], []\n",
    "  input, output = [], []\n",
    "  with open(path, mode = 'r') as f:\n",
    "    for file_list in f:\n",
    "      col.append(file_list.split('\\t'))\n",
    "  for i in col:\n",
    "    input.append(i[0])\n",
    "    output.append(i[1])\n",
    "\n",
    "  for sentence in input:\n",
    "    pred.append(gen_sentence(sentence, SRC, TRG, best_model))\n",
    "  return input, output, pred"
   ]
  },
  {
   "cell_type": "code",
   "execution_count": null,
   "metadata": {
    "id": "g8NRSY90gltG"
   },
   "outputs": [],
   "source": [
    "path = \"/content/dirve/My Drive/Colab Notebooks/data/test.tsv\"\n",
    "test_input, test_output, test_pred = gen_sentence_list(path)\n"
   ]
  },
  {
   "cell_type": "code",
   "execution_count": null,
   "metadata": {
    "id": "GZSAAr1T61Sh"
   },
   "outputs": [],
   "source": [
    "path = \"/content/dirve/My Drive/Colab Notebooks/data/train.tsv\"\n",
    "train_input, train_output, train_pred = gen_sentence_list(path)"
   ]
  },
  {
   "cell_type": "code",
   "execution_count": null,
   "metadata": {
    "id": "62_L_bWg63bi"
   },
   "outputs": [],
   "source": [
    "path = \"/content/dirve/My Drive/Colab Notebooks/data/val.tsv\"\n",
    "val_input, val_output, val_pred = gen_sentence_list(path)"
   ]
  },
  {
   "cell_type": "code",
   "execution_count": null,
   "metadata": {
    "id": "aSqikvUh-7k8"
   },
   "outputs": [],
   "source": [
    "import pandas as pd\n",
    "def convert_list_to_df(input, output, pred_list):\n",
    "  row = []\n",
    "  pred = \"\"\n",
    "  for i in range(len(input)):\n",
    "    input_str = input[i]\n",
    "    output_str = output[i]\n",
    "    batch_pred = pred_list[i]\n",
    "    predict = [j for j in batch_pred if j != \"<pad>\" and j != \"<sos>\" and j != \"<eos>\" and j != \"<unk>\" and j != \"[unk]\"]\n",
    "    predict_str = \"\".join(predict).replace(\"#\", \"\")\n",
    "    row.append([input_str, output_str, predict_str])\n",
    "  df = pd.DataFrame(row, columns=[\"input\",\"answer\",\"predict\"])\n",
    "  df = df.sort_values('input')\n",
    "  return df"
   ]
  },
  {
   "cell_type": "code",
   "execution_count": null,
   "metadata": {
    "id": "-G0cjMGG_CM9"
   },
   "outputs": [],
   "source": [
    "train_df = convert_list_to_df(train_input, train_output, train_pred)\n",
    "val_df = convert_list_to_df(val_input, val_output, val_pred)\n",
    "test_df = convert_list_to_df(test_input, test_output, test_pred)"
   ]
  },
  {
   "cell_type": "code",
   "execution_count": null,
   "metadata": {
    "id": "n-1JgHfu_EQT"
   },
   "outputs": [],
   "source": [
    "df_s = pd.concat([train_df, test_df])\n",
    "df_s = df_s.sort_values(\"input\")"
   ]
  },
  {
   "cell_type": "code",
   "execution_count": null,
   "metadata": {
    "id": "myhqp4bD2gYY"
   },
   "outputs": [],
   "source": [
    "df_s"
   ]
  },
  {
   "cell_type": "code",
   "execution_count": null,
   "metadata": {
    "id": "DyQlxXyx8jMy"
   },
   "outputs": [],
   "source": [
    "df_s.to_csv(filename)"
   ]
  },
  {
   "cell_type": "code",
   "execution_count": null,
   "metadata": {
    "id": "c0Gwd3ePCKKt"
   },
   "outputs": [],
   "source": [
    "# df_s.to_csv(\"/content/dirve/My Drive/Colab Notebooks/csv/one_result_bertSeq2seq.csv\")"
   ]
  },
  {
   "cell_type": "code",
   "execution_count": null,
   "metadata": {
    "id": "ACwq_bXTCZye"
   },
   "outputs": [],
   "source": []
  }
 ],
 "metadata": {
  "accelerator": "GPU",
  "colab": {
   "authorship_tag": "ABX9TyPr83KPbfKU9h5n6n5LWpf/",
   "collapsed_sections": [],
   "name": "bert_embedded_seq2seq.ipynb",
   "private_outputs": true,
   "provenance": []
  },
  "kernelspec": {
   "display_name": "Python 3",
   "language": "python",
   "name": "python3"
  },
  "language_info": {
   "codemirror_mode": {
    "name": "ipython",
    "version": 3
   },
   "file_extension": ".py",
   "mimetype": "text/x-python",
   "name": "python",
   "nbconvert_exporter": "python",
   "pygments_lexer": "ipython3",
   "version": "3.7.1"
  }
 },
 "nbformat": 4,
 "nbformat_minor": 1
}
