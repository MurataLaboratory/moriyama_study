{
 "cells": [
  {
   "cell_type": "code",
   "execution_count": 61,
   "metadata": {
    "colab": {
     "base_uri": "https://localhost:8080/"
    },
    "executionInfo": {
     "elapsed": 971,
     "status": "ok",
     "timestamp": 1604609107806,
     "user": {
      "displayName": "守山慧",
      "photoUrl": "",
      "userId": "18276650506428796801"
     },
     "user_tz": -540
    },
    "id": "7Z8LGX2980EX",
    "outputId": "c4279f8a-f58a-43bc-8232-12af6c607ca3"
   },
   "outputs": [
    {
     "name": "stdout",
     "output_type": "stream",
     "text": [
      "hello world\n"
     ]
    }
   ],
   "source": [
    "print('hello world')"
   ]
  },
  {
   "cell_type": "code",
   "execution_count": 62,
   "metadata": {
    "executionInfo": {
     "elapsed": 2600,
     "status": "ok",
     "timestamp": 1604609109447,
     "user": {
      "displayName": "守山慧",
      "photoUrl": "",
      "userId": "18276650506428796801"
     },
     "user_tz": -540
    },
    "id": "wij1JxmL9GPC"
   },
   "outputs": [],
   "source": [
    "import math\n",
    "import torch\n",
    "import torch.nn as nn\n",
    "import torch.nn.functional as F\n",
    "\n",
    "class TransformerModel(nn.Module):\n",
    "\n",
    "    def __init__(self, ntoken, ninp, nhead, nhid, nlayers, dropout=0.5):\n",
    "        super(TransformerModel, self).__init__()\n",
    "        from torch.nn import TransformerEncoder, TransformerEncoderLayer\n",
    "        self.model_type = 'Transformer'\n",
    "        self.pos_encoder = PositionalEncoding(ninp, dropout)\n",
    "        encoder_layers = TransformerEncoderLayer(ninp, nhead, nhid, dropout)\n",
    "        self.transformer_encoder = TransformerEncoder(encoder_layers, nlayers)\n",
    "        self.encoder = nn.Embedding(ntoken, ninp)\n",
    "        self.ninp = ninp\n",
    "        self.decoder = nn.Linear(ninp, ntoken)\n",
    "\n",
    "        self.init_weights()\n",
    "\n",
    "    def generate_square_subsequent_mask(self, sz):\n",
    "        mask = (torch.triu(torch.ones(sz, sz)) == 1).transpose(0, 1)\n",
    "        mask = mask.float().masked_fill(mask == 0, float('-inf')).masked_fill(mask == 1, float(0.0))\n",
    "        return mask\n",
    "\n",
    "    def init_weights(self):\n",
    "        initrange = 0.1\n",
    "        self.encoder.weight.data.uniform_(-initrange, initrange)\n",
    "        self.decoder.bias.data.zero_()\n",
    "        self.decoder.weight.data.uniform_(-initrange, initrange)\n",
    "\n",
    "    def forward(self, src, src_mask):\n",
    "        src = self.encoder(src) * math.sqrt(self.ninp)\n",
    "        src = self.pos_encoder(src)\n",
    "        output = self.transformer_encoder(src, src_mask)\n",
    "        output = self.decoder(output)\n",
    "        return output"
   ]
  },
  {
   "cell_type": "code",
   "execution_count": 63,
   "metadata": {
    "executionInfo": {
     "elapsed": 2596,
     "status": "ok",
     "timestamp": 1604609109448,
     "user": {
      "displayName": "守山慧",
      "photoUrl": "",
      "userId": "18276650506428796801"
     },
     "user_tz": -540
    },
    "id": "KdR2x3-I9Mwj"
   },
   "outputs": [],
   "source": [
    "class PositionalEncoding(nn.Module):\n",
    "\n",
    "    def __init__(self, d_model, dropout=0.1, max_len=5000):\n",
    "        super(PositionalEncoding, self).__init__()\n",
    "        self.dropout = nn.Dropout(p=dropout)\n",
    "\n",
    "        pe = torch.zeros(max_len, d_model)\n",
    "        position = torch.arange(0, max_len, dtype=torch.float).unsqueeze(1)\n",
    "        div_term = torch.exp(torch.arange(0, d_model, 2).float() * (-math.log(10000.0) / d_model))\n",
    "        pe[:, 0::2] = torch.sin(position * div_term)\n",
    "        pe[:, 1::2] = torch.cos(position * div_term)\n",
    "        pe = pe.unsqueeze(0).transpose(0, 1)\n",
    "        self.register_buffer('pe', pe)\n",
    "\n",
    "    def forward(self, x):\n",
    "        x = x + self.pe[:x.size(0), :]\n",
    "        return self.dropout(x)"
   ]
  },
  {
   "cell_type": "code",
   "execution_count": 64,
   "metadata": {
    "colab": {
     "base_uri": "https://localhost:8080/"
    },
    "executionInfo": {
     "elapsed": 5207,
     "status": "ok",
     "timestamp": 1604609112064,
     "user": {
      "displayName": "守山慧",
      "photoUrl": "",
      "userId": "18276650506428796801"
     },
     "user_tz": -540
    },
    "id": "GIlU3Pq_9PTH",
    "outputId": "a74538fe-2a97-4b8b-d5e7-757ecaf01d1a"
   },
   "outputs": [
    {
     "name": "stdout",
     "output_type": "stream",
     "text": [
      "Requirement already satisfied: janome in c:\\users\\kei\\anaconda3\\envs\\school\\lib\\site-packages (0.4.1)\n"
     ]
    }
   ],
   "source": [
    "!pip install janome"
   ]
  },
  {
   "cell_type": "code",
   "execution_count": 65,
   "metadata": {
    "executionInfo": {
     "elapsed": 5203,
     "status": "ok",
     "timestamp": 1604609112065,
     "user": {
      "displayName": "守山慧",
      "photoUrl": "",
      "userId": "18276650506428796801"
     },
     "user_tz": -540
    },
    "id": "NaLzDlDO9WVO"
   },
   "outputs": [],
   "source": [
    "import janome\n",
    "from janome.tokenizer import Tokenizer\n",
    "from torchtext import data\n",
    "from torchtext import datasets"
   ]
  },
  {
   "cell_type": "code",
   "execution_count": 66,
   "metadata": {
    "executionInfo": {
     "elapsed": 5200,
     "status": "ok",
     "timestamp": 1604609112066,
     "user": {
      "displayName": "守山慧",
      "photoUrl": "",
      "userId": "18276650506428796801"
     },
     "user_tz": -540
    },
    "id": "Yw4rgSs_9YNf"
   },
   "outputs": [],
   "source": [
    "j_t = Tokenizer()\n",
    "def tokenizer(text): \n",
    "    return [tok for tok in j_t.tokenize(text, wakati=True)]"
   ]
  },
  {
   "cell_type": "code",
   "execution_count": 67,
   "metadata": {
    "executionInfo": {
     "elapsed": 5197,
     "status": "ok",
     "timestamp": 1604609112066,
     "user": {
      "displayName": "守山慧",
      "photoUrl": "",
      "userId": "18276650506428796801"
     },
     "user_tz": -540
    },
    "id": "xVD8nOgH9Z92"
   },
   "outputs": [],
   "source": [
    "SRC = data.Field(sequential=True, tokenize=tokenizer,init_token='<sos>',\n",
    "                            eos_token='<eos>', lower=True, fix_length = 100)\n",
    "TRG = data.Field(sequential=True, tokenize=tokenizer,init_token='<sos>',\n",
    "                            eos_token='<eos>', lower=True, fix_length = 100)"
   ]
  },
  {
   "cell_type": "code",
   "execution_count": 68,
   "metadata": {
    "executionInfo": {
     "elapsed": 50651,
     "status": "ok",
     "timestamp": 1604609157523,
     "user": {
      "displayName": "守山慧",
      "photoUrl": "",
      "userId": "18276650506428796801"
     },
     "user_tz": -540
    },
    "id": "z_W9CJc_9bl5"
   },
   "outputs": [],
   "source": [
    "train, val, test = data.TabularDataset.splits(\n",
    "        path=\"./\", train='train.tsv',\n",
    "        validation='val.tsv', test='test.tsv', format='tsv',\n",
    "        fields=[('SRC', SRC), ('TRG', TRG)])"
   ]
  },
  {
   "cell_type": "code",
   "execution_count": 69,
   "metadata": {
    "executionInfo": {
     "elapsed": 50649,
     "status": "ok",
     "timestamp": 1604609157525,
     "user": {
      "displayName": "守山慧",
      "photoUrl": "",
      "userId": "18276650506428796801"
     },
     "user_tz": -540
    },
    "id": "OC130WaB9ixV"
   },
   "outputs": [],
   "source": [
    "SRC.build_vocab(train, min_freq=1)\n",
    "TRG.build_vocab(train, min_freq=1)\n",
    "device = torch.device(\"cuda\" if torch.cuda.is_available() else \"cpu\")"
   ]
  },
  {
   "cell_type": "code",
   "execution_count": 70,
   "metadata": {
    "executionInfo": {
     "elapsed": 50647,
     "status": "ok",
     "timestamp": 1604609157526,
     "user": {
      "displayName": "守山慧",
      "photoUrl": "",
      "userId": "18276650506428796801"
     },
     "user_tz": -540
    },
    "id": "_7082vlFHIR8"
   },
   "outputs": [],
   "source": [
    "train_batch_size = 100\n",
    "test_batch_size = 10\n",
    "eval_batch_size = 50\n",
    "train_iter, val_iter, test_iter = data.BucketIterator.splits((train, val, test), sort = False,  batch_sizes = (train_batch_size,eval_batch_size, test_batch_size), device= device)"
   ]
  },
  {
   "cell_type": "code",
   "execution_count": 71,
   "metadata": {
    "colab": {
     "base_uri": "https://localhost:8080/"
    },
    "executionInfo": {
     "elapsed": 50642,
     "status": "ok",
     "timestamp": 1604609157526,
     "user": {
      "displayName": "守山慧",
      "photoUrl": "",
      "userId": "18276650506428796801"
     },
     "user_tz": -540
    },
    "id": "lbMYa-elbFVl",
    "outputId": "c54bf51e-7167-4eeb-ff4c-bf4e2d39ff4a"
   },
   "outputs": [
    {
     "data": {
      "text/plain": [
       "20000"
      ]
     },
     "execution_count": 71,
     "metadata": {},
     "output_type": "execute_result"
    }
   ],
   "source": [
    "len(train_iter.data())"
   ]
  },
  {
   "cell_type": "code",
   "execution_count": 72,
   "metadata": {
    "executionInfo": {
     "elapsed": 50638,
     "status": "ok",
     "timestamp": 1604609157527,
     "user": {
      "displayName": "守山慧",
      "photoUrl": "",
      "userId": "18276650506428796801"
     },
     "user_tz": -540
    },
    "id": "c3Khrj4y95-F"
   },
   "outputs": [],
   "source": [
    "ntokens = len(SRC.vocab.stoi) # the size of vocabulary\n",
    "emsize = 200 # embedding dimension\n",
    "nhid = 200 # the dimension of the feedforward network model in nn.TransformerEncoder\n",
    "nlayers = 2 # the number of nn.TransformerEncoderLayer in nn.TransformerEncoder\n",
    "nhead = 2 # the number of heads in the multiheadattention models\n",
    "dropout = 0.5 # the dropout value\n",
    "model = TransformerModel(ntokens, emsize, nhead, nhid, nlayers, dropout).to(device)"
   ]
  },
  {
   "cell_type": "code",
   "execution_count": 87,
   "metadata": {
    "executionInfo": {
     "elapsed": 50635,
     "status": "ok",
     "timestamp": 1604609157527,
     "user": {
      "displayName": "守山慧",
      "photoUrl": "",
      "userId": "18276650506428796801"
     },
     "user_tz": -540
    },
    "id": "xKasgK4M98rJ"
   },
   "outputs": [],
   "source": [
    "criterion = nn.CrossEntropyLoss()\n",
    "lr = 0.5 # learning rate\n",
    "optimizer = torch.optim.SGD(model.parameters(), lr=lr)\n",
    "scheduler = torch.optim.lr_scheduler.StepLR(optimizer, 1.0, gamma=0.95)\n",
    "\n",
    "import time\n",
    "def train(iterator):\n",
    "    model.train() # Turn on the train mode\n",
    "    total_loss = 0.\n",
    "    start_time = time.time()\n",
    "    ntokens = len(SRC.vocab.stoi)\n",
    "    for i, batch in enumerate(iterator):\n",
    "        data = batch.SRC\n",
    "        targets = batch.TRG\n",
    "        optimizer.zero_grad()\n",
    "        src_mask = model.generate_square_subsequent_mask(data.shape[0]).to(device)\n",
    "        output = model(data, src_mask)      \n",
    "        output = output[1:].view(-1, output.shape[-1])\n",
    "        print(\"output:\",output)\n",
    "        targets = targets[1:].view(-1)\n",
    "        print(\"target:\",targets)\n",
    "        loss = criterion(output, targets)\n",
    "        loss.backward()\n",
    "        torch.nn.utils.clip_grad_norm_(model.parameters(), 0.5)\n",
    "        optimizer.step()\n",
    "\n",
    "        total_loss += loss.item()\n",
    "        \n",
    "\n",
    "def evaluate(eval_model, data_source):\n",
    "    eval_model.eval() # Turn on the evaluation mode\n",
    "    total_loss = 0.\n",
    "    ntokens = len(SRC.vocab.stoi)\n",
    "    #src_mask = model.generate_square_subsequent_mask(bptt).to(device)\n",
    "    with torch.no_grad():\n",
    "        for i, batch in enumerate(data_source):\n",
    "            data = batch.SRC\n",
    "            targets = batch.TRG\n",
    "            src_mask = model.generate_square_subsequent_mask(data.shape[0]).to(device)\n",
    "            output = eval_model(data, src_mask)\n",
    "            output_flat = output[1:].view(-1, output.shape[-1])\n",
    "            targets = targets[1:].view(-1)\n",
    "            total_loss += len(data) * criterion(output_flat, targets).item()\n",
    "    return total_loss / (len(data_source) - 1)"
   ]
  },
  {
   "cell_type": "code",
   "execution_count": 88,
   "metadata": {
    "colab": {
     "base_uri": "https://localhost:8080/"
    },
    "id": "BH0OwGrB-N81",
    "outputId": "c41bea40-8c7b-48cd-9033-a3e212dc6952"
   },
   "outputs": [
    {
     "name": "stdout",
     "output_type": "stream",
     "text": [
      "output: tensor([[-0.3151, -1.0659,  0.7573,  ...,  0.5115,  0.1632,  0.4482],\n",
      "        [ 0.3361, -0.2336,  1.2291,  ...,  1.5279,  0.6473,  0.3624],\n",
      "        [ 0.8654,  0.0977,  1.0907,  ...,  0.7570, -0.0233, -0.6266],\n",
      "        ...,\n",
      "        [-0.2755,  0.4157,  0.4161,  ...,  1.2380,  0.7114, -1.2725],\n",
      "        [ 0.1736,  0.8402,  0.4540,  ...,  1.1244,  1.1582, -0.4806],\n",
      "        [ 0.2649,  0.8800,  1.1043,  ...,  1.3826,  0.3915, -0.8756]],\n",
      "       device='cuda:0', grad_fn=<ViewBackward>)\n",
      "target: tensor([10,  9, 14,  ...,  1,  1,  1], device='cuda:0')\n",
      "output: tensor([[ 0.5242,  1.2721,  1.6303,  ..., -0.5260,  0.4322, -1.6451],\n",
      "        [-0.2376,  0.8409,  1.3645,  ...,  0.7964,  0.8104, -0.4069],\n",
      "        [ 0.3258,  1.5191,  1.1099,  ...,  0.3823, -0.7987, -0.5605],\n",
      "        ...,\n",
      "        [ 0.0449,  2.8392,  1.3458,  ...,  1.0995,  0.1270, -1.2990],\n",
      "        [-0.7032,  4.6781,  1.0259,  ...,  0.3543,  0.6894, -0.8818],\n",
      "        [ 0.0102,  4.2530,  0.0101,  ...,  1.2809, -0.3628, -1.6681]],\n",
      "       device='cuda:0', grad_fn=<ViewBackward>)\n",
      "target: tensor([16, 29,  8,  ...,  1,  1,  1], device='cuda:0')\n",
      "output: tensor([[ 0.7801,  3.5686,  0.2765,  ..., -0.2672,  0.8051, -0.3434],\n",
      "        [ 1.0677,  1.4994,  0.6937,  ...,  1.8098,  0.9420,  0.6488],\n",
      "        [ 0.2578,  2.0857,  2.0065,  ...,  0.5034,  0.8219, -0.9665],\n",
      "        ...,\n",
      "        [ 0.6105,  8.0394,  0.6173,  ...,  2.1574,  0.6259, -1.3678],\n",
      "        [-0.5817,  7.9877,  0.1089,  ...,  1.4513,  0.4019, -1.9738],\n",
      "        [-0.5322,  8.2469,  0.7468,  ...,  1.3511,  0.6651, -1.1768]],\n",
      "       device='cuda:0', grad_fn=<ViewBackward>)\n",
      "target: tensor([25,  8, 62,  ...,  1,  1,  1], device='cuda:0')\n",
      "output: tensor([[ 6.4908e-01,  4.6469e+00,  1.3734e+00,  ...,  5.1010e-01,\n",
      "          1.0728e+00, -6.1331e-01],\n",
      "        [ 1.1869e+00,  3.6809e+00,  1.3245e+00,  ...,  5.1331e-02,\n",
      "         -2.5732e-01, -5.4917e-01],\n",
      "        [-3.5234e-02,  3.2664e+00, -9.8115e-02,  ...,  1.1270e+00,\n",
      "          2.2355e-01, -6.4283e-01],\n",
      "        ...,\n",
      "        [-8.8987e-01,  1.1554e+01, -9.0425e-03,  ...,  6.3955e-01,\n",
      "          4.4125e-01, -9.6427e-01],\n",
      "        [ 6.1345e-01,  1.1377e+01,  7.4532e-01,  ...,  1.2725e+00,\n",
      "          1.0561e+00, -1.7228e+00],\n",
      "        [ 2.0652e-01,  1.1395e+01,  4.8441e-02,  ...,  6.5360e-01,\n",
      "          2.4675e-01, -6.2843e-01]], device='cuda:0', grad_fn=<ViewBackward>)\n",
      "target: tensor([ 20,  73, 179,  ...,   1,   1,   1], device='cuda:0')\n",
      "output: tensor([[ 0.2085,  7.1501,  0.1385,  ...,  0.4512, -0.1889, -0.9772],\n",
      "        [-0.2706,  6.7340,  1.0419,  ...,  0.1139,  0.6523, -1.1053],\n",
      "        [ 0.1407,  4.5654,  0.8942,  ..., -0.2041,  0.3973, -1.0599],\n",
      "        ...,\n",
      "        [ 0.4506, 15.1030,  0.2243,  ...,  1.6203,  0.7068, -1.7494],\n",
      "        [ 0.6497, 14.6147,  1.5362,  ..., -0.6180,  1.3845, -1.8200],\n",
      "        [ 0.8430, 14.7748,  1.0716,  ...,  1.1796,  0.2477, -0.7515]],\n",
      "       device='cuda:0', grad_fn=<ViewBackward>)\n",
      "target: tensor([29, 21, 24,  ...,  1,  1,  1], device='cuda:0')\n",
      "output: tensor([[-1.2158,  2.0189,  0.2246,  ..., -0.3372,  0.9411, -0.1781],\n",
      "        [-0.5744,  4.6830,  1.0593,  ...,  0.9913,  0.9262, -0.7277],\n",
      "        [-0.0150,  4.9468,  1.7175,  ...,  0.5743,  0.1693, -0.0145],\n",
      "        ...,\n",
      "        [ 0.4445, 13.9992,  0.7351,  ...,  1.4580,  0.2720, -1.3260],\n",
      "        [-0.2616, 13.9885,  0.2159,  ...,  0.4626,  0.0965, -0.8654],\n",
      "        [-0.3560, 12.5578,  0.3879,  ...,  0.3090, -0.0522, -1.9621]],\n",
      "       device='cuda:0', grad_fn=<ViewBackward>)\n",
      "target: tensor([69,  9,  9,  ...,  1,  1,  1], device='cuda:0')\n",
      "output: tensor([[ 2.9812e-01,  7.2940e+00,  3.3352e-01,  ...,  4.6044e-01,\n",
      "          4.3044e-02,  1.3180e-01],\n",
      "        [-1.2046e+00,  5.5292e+00,  9.3166e-01,  ...,  4.2598e-01,\n",
      "         -9.7498e-02, -1.0634e-02],\n",
      "        [ 6.4462e-02,  7.7306e+00,  3.6287e-01,  ...,  4.4146e-01,\n",
      "          4.5272e-01, -4.2898e-01],\n",
      "        ...,\n",
      "        [ 6.7664e-01,  1.5789e+01,  9.6204e-02,  ...,  1.0955e+00,\n",
      "         -7.8365e-02, -1.3206e+00],\n",
      "        [ 3.2690e-01,  1.5582e+01,  1.1258e+00,  ...,  1.3557e+00,\n",
      "          1.2563e+00, -9.7289e-01],\n",
      "        [ 8.1609e-01,  1.5213e+01,  4.7854e-01,  ...,  7.1046e-01,\n",
      "          3.6815e-01, -7.0139e-01]], device='cuda:0', grad_fn=<ViewBackward>)\n",
      "target: tensor([   9,    9, 1752,  ...,    1,    1,    1], device='cuda:0')\n",
      "output: tensor([[-1.3274e-01,  3.6856e+00,  5.9621e-01,  ...,  2.1378e-01,\n",
      "          1.0743e+00, -1.4968e-01],\n",
      "        [ 3.8145e-01,  6.4261e+00,  1.0415e+00,  ...,  6.4891e-01,\n",
      "          5.3506e-01, -1.6573e+00],\n",
      "        [ 3.0715e-01,  3.8912e+00,  8.0165e-01,  ...,  8.6665e-01,\n",
      "          4.8835e-01, -3.9788e-01],\n",
      "        ...,\n",
      "        [ 3.9487e-01,  1.4754e+01,  2.4825e-01,  ...,  1.2061e+00,\n",
      "          4.5245e-01, -2.3864e+00],\n",
      "        [-1.5068e-01,  1.4077e+01,  5.5200e-02,  ...,  5.5619e-01,\n",
      "          6.1918e-01, -1.1893e+00],\n",
      "        [ 6.9366e-01,  1.4166e+01,  2.3495e-01,  ...,  3.9762e-01,\n",
      "         -1.4746e-02, -1.3491e+00]], device='cuda:0', grad_fn=<ViewBackward>)\n",
      "target: tensor([ 9, 16,  5,  ...,  1,  1,  1], device='cuda:0')\n",
      "output: tensor([[ 4.0949e-04,  3.8409e+00,  8.9927e-01,  ...,  2.0291e-01,\n",
      "          9.2366e-01,  4.0292e-02],\n",
      "        [ 1.5408e-01,  5.9642e+00,  1.5133e+00,  ...,  4.4516e-01,\n",
      "         -1.8735e-02,  7.5729e-01],\n",
      "        [ 8.1698e-02,  5.3687e+00,  6.7421e-01,  ..., -3.0641e-01,\n",
      "          1.6964e-01, -6.2606e-01],\n",
      "        ...,\n",
      "        [ 1.2906e+00,  1.4918e+01,  5.5195e-01,  ...,  1.7454e+00,\n",
      "          3.1963e-01, -1.5647e+00],\n",
      "        [ 7.1879e-01,  1.5161e+01,  2.4316e+00,  ...,  1.0755e+00,\n",
      "          1.1899e+00, -2.6912e+00],\n",
      "        [ 6.2119e-01,  1.4856e+01,  1.0070e+00,  ...,  1.1640e+00,\n",
      "          1.8688e+00, -1.1518e+00]], device='cuda:0', grad_fn=<ViewBackward>)\n",
      "target: tensor([14, 42, 14,  ...,  1,  1,  1], device='cuda:0')\n",
      "output: tensor([[-0.2640,  6.5442,  1.4555,  ...,  0.7769,  0.5175, -0.1673],\n",
      "        [ 0.8484,  7.9626,  1.5608,  ...,  0.5376,  1.2901, -0.9047],\n",
      "        [ 0.2149,  4.4859,  1.1151,  ...,  0.2947, -0.0188, -1.1179],\n",
      "        ...,\n",
      "        [-0.1894, 14.6954,  0.2924,  ...,  0.1951,  0.6736, -1.1772],\n",
      "        [ 0.4703, 14.7174,  0.9055,  ...,  1.3475,  0.3612, -0.6768],\n",
      "        [ 0.4040, 14.3607,  1.1432,  ...,  1.4164,  0.7017, -1.3827]],\n",
      "       device='cuda:0', grad_fn=<ViewBackward>)\n",
      "target: tensor([ 15,   9, 128,  ...,   1,   1,   1], device='cuda:0')\n",
      "output: tensor([[-0.2158,  4.3324,  1.4720,  ...,  0.9814,  0.3270, -0.0945],\n",
      "        [ 0.1339,  5.3225,  0.6962,  ..., -1.0341, -0.1593, -1.6041],\n",
      "        [-0.2679,  3.1870,  0.8058,  ...,  0.2996, -0.0854, -0.6046],\n",
      "        ...,\n",
      "        [ 0.5324, 14.4095,  0.0398,  ...,  0.9334,  0.0338, -1.1843],\n",
      "        [ 0.5114, 15.0217,  0.6294,  ...,  0.8746,  1.5388, -1.5190],\n",
      "        [ 0.1100, 14.4701,  0.1043,  ...,  1.8974,  0.0169, -1.4451]],\n",
      "       device='cuda:0', grad_fn=<ViewBackward>)\n",
      "target: tensor([15, 15, 55,  ...,  1,  1,  1], device='cuda:0')\n",
      "output: tensor([[-0.4020,  6.7188,  0.7225,  ..., -0.1302,  0.4572, -0.9044],\n",
      "        [ 0.3270,  5.0368,  0.8473,  ..., -0.0319, -0.0409, -0.9077],\n",
      "        [ 0.5665,  9.7547,  1.2229,  ...,  0.9114, -0.1209, -1.3919],\n",
      "        ...,\n",
      "        [ 0.8354, 16.5291,  1.3889,  ...,  1.3489,  0.8068, -0.8107],\n",
      "        [ 0.4598, 15.6528,  0.2680,  ...,  1.0810,  0.3599, -1.7962],\n",
      "        [ 0.6942, 15.6499,  1.1462,  ...,  1.8097,  0.7737, -0.8474]],\n",
      "       device='cuda:0', grad_fn=<ViewBackward>)\n",
      "target: tensor([ 8, 25,  9,  ...,  1,  1,  1], device='cuda:0')\n",
      "output: tensor([[ 0.6951,  4.7460,  0.9618,  ..., -0.2585,  0.2954, -0.5071],\n",
      "        [ 1.6619,  5.8094,  1.0613,  ...,  0.1684,  0.1620, -0.3921],\n",
      "        [ 0.3240,  5.9213,  1.4432,  ...,  0.7649,  0.7143, -0.8395],\n",
      "        ...,\n",
      "        [ 0.0469, 13.7632,  0.0502,  ...,  0.0384,  0.9163, -1.6387],\n",
      "        [ 1.1764, 15.0965,  1.2255,  ...,  1.0972, -0.0817, -1.2044],\n",
      "        [ 0.7280, 14.3911,  0.9912,  ...,  1.3844,  0.3457, -1.4372]],\n",
      "       device='cuda:0', grad_fn=<ViewBackward>)\n",
      "target: tensor([82, 28, 24,  ...,  1,  1,  1], device='cuda:0')\n",
      "output: tensor([[-4.7777e-01,  6.1288e+00,  7.0798e-01,  ...,  2.0964e-01,\n",
      "          2.9549e-01, -4.3404e-02],\n",
      "        [ 7.7998e-01,  5.8292e+00,  6.2122e-01,  ...,  1.0124e+00,\n",
      "          4.2725e-01, -1.1959e+00],\n",
      "        [-3.9489e-02,  3.9056e+00,  5.9255e-01,  ...,  1.0067e-01,\n",
      "          7.7064e-02, -8.4372e-01],\n",
      "        ...,\n",
      "        [ 4.9452e-01,  1.6366e+01, -9.7425e-03,  ...,  1.0080e+00,\n",
      "          2.1363e-01, -1.2272e+00],\n",
      "        [-4.7252e-01,  1.5307e+01,  6.8811e-01,  ...,  1.6548e+00,\n",
      "          1.8994e-01, -1.3294e+00],\n",
      "        [ 2.5662e-01,  1.5765e+01,  7.0370e-01,  ...,  1.4191e+00,\n",
      "          3.6980e-02, -1.4461e+00]], device='cuda:0', grad_fn=<ViewBackward>)\n",
      "target: tensor([ 9, 42,  9,  ...,  1,  1,  1], device='cuda:0')\n"
     ]
    },
    {
     "name": "stdout",
     "output_type": "stream",
     "text": [
      "output: tensor([[ 8.1158e-01,  3.7769e+00, -1.7168e-01,  ...,  2.2176e-01,\n",
      "          3.2634e-01,  1.0929e-02],\n",
      "        [ 2.3546e-01,  5.4033e+00,  5.8836e-01,  ...,  1.7564e-01,\n",
      "          9.1623e-01, -7.9196e-01],\n",
      "        [-5.1732e-01,  4.4508e+00,  5.2427e-01,  ...,  1.0377e+00,\n",
      "          6.6324e-01, -1.4671e+00],\n",
      "        ...,\n",
      "        [-1.0780e-01,  1.5837e+01,  1.2849e+00,  ...,  1.4888e+00,\n",
      "         -2.9688e-01, -1.2653e+00],\n",
      "        [-2.3936e-02,  1.5726e+01,  6.7440e-01,  ...,  8.7939e-01,\n",
      "          1.1064e-01, -1.5659e+00],\n",
      "        [ 1.0981e+00,  1.4519e+01,  3.9001e-01,  ...,  1.0180e+00,\n",
      "          3.0571e-01, -1.3545e+00]], device='cuda:0', grad_fn=<ViewBackward>)\n",
      "target: tensor([ 9, 29, 29,  ...,  1,  1,  1], device='cuda:0')\n",
      "output: tensor([[-0.6411,  7.8181,  0.8823,  ...,  1.3931,  0.6768, -0.8183],\n",
      "        [ 0.2839,  7.6508,  1.8709,  ...,  0.3338,  0.3718, -1.0078],\n",
      "        [ 0.4986,  7.4654,  1.2732,  ...,  0.7366,  1.0533, -0.7831],\n",
      "        ...,\n",
      "        [ 0.7872, 15.8943,  0.7540,  ...,  0.9037,  0.6347, -1.2871],\n",
      "        [-0.2692, 16.5111,  0.1208,  ...,  1.8742,  1.0636, -1.7049],\n",
      "        [-0.0554, 15.8231,  0.1802,  ...,  1.2703,  0.2047, -0.6791]],\n",
      "       device='cuda:0', grad_fn=<ViewBackward>)\n",
      "target: tensor([ 7,  9, 58,  ...,  1,  1,  1], device='cuda:0')\n",
      "output: tensor([[-0.0974,  5.6323,  1.4204,  ...,  0.7901, -0.0733, -0.2265],\n",
      "        [ 0.2862,  5.3445,  0.3410,  ...,  0.5628,  0.8635, -0.7509],\n",
      "        [-0.3438,  5.6323,  0.3220,  ...,  0.2079,  0.8814, -1.3794],\n",
      "        ...,\n",
      "        [ 0.3968, 15.6234,  0.4632,  ...,  0.6854,  0.1970, -1.0783],\n",
      "        [ 0.6432, 15.2648,  1.2172,  ...,  0.9477,  0.5436, -2.0250],\n",
      "        [ 0.2170, 14.6457,  0.5539,  ...,  0.6807,  1.1139, -1.2397]],\n",
      "       device='cuda:0', grad_fn=<ViewBackward>)\n",
      "target: tensor([33, 27,  9,  ...,  1,  1,  1], device='cuda:0')\n",
      "output: tensor([[-0.3461,  5.8457,  0.4979,  ...,  0.7722,  0.9268, -0.9272],\n",
      "        [-0.1490,  7.0926,  0.9434,  ...,  0.6615,  0.0481, -0.1585],\n",
      "        [-0.0691,  5.8377,  0.5757,  ...,  0.4623,  0.5059, -0.8863],\n",
      "        ...,\n",
      "        [ 1.1231, 15.5286,  0.2798,  ...,  1.4334,  0.7586, -1.1845],\n",
      "        [ 1.3696, 15.1525,  1.4810,  ...,  0.7618, -0.0518, -1.0108],\n",
      "        [ 0.3430, 14.9470,  1.5421,  ...,  1.1654,  0.9930, -1.7086]],\n",
      "       device='cuda:0', grad_fn=<ViewBackward>)\n",
      "target: tensor([ 8, 22,  9,  ...,  1,  1,  1], device='cuda:0')\n",
      "output: tensor([[ 0.7337,  4.9643,  0.6576,  ...,  1.5838,  0.3650,  0.1336],\n",
      "        [ 1.0371,  6.5096,  1.4252,  ...,  0.0984,  0.6245, -1.6654],\n",
      "        [-0.6666,  4.8362,  0.4332,  ...,  0.0695,  0.8864, -0.9534],\n",
      "        ...,\n",
      "        [ 0.4258, 15.7203,  0.2139,  ...,  1.1790,  0.1393, -1.7333],\n",
      "        [-0.0880, 15.5093,  0.2844,  ...,  1.0750,  0.5860, -0.5553],\n",
      "        [ 0.9167, 15.7848,  0.7686,  ...,  1.5640,  0.6150, -0.6455]],\n",
      "       device='cuda:0', grad_fn=<ViewBackward>)\n",
      "target: tensor([20, 17, 44,  ...,  1,  1,  1], device='cuda:0')\n",
      "output: tensor([[ 0.1965,  4.2190,  0.3693,  ..., -0.3096,  0.3992, -0.6639],\n",
      "        [ 1.4001,  4.9684,  0.5715,  ..., -0.3816,  0.3979, -0.7855],\n",
      "        [-0.1790,  4.6940,  0.4910,  ...,  0.1437,  0.5295,  0.0198],\n",
      "        ...,\n",
      "        [ 0.7461, 16.0952,  0.8422,  ...,  1.0704,  0.6859, -1.8536],\n",
      "        [ 1.2695, 15.1298,  1.0155,  ...,  1.1877,  0.4142, -1.5931],\n",
      "        [-0.6720, 15.3384, -0.2954,  ...,  0.4907,  0.6139, -1.8164]],\n",
      "       device='cuda:0', grad_fn=<ViewBackward>)\n",
      "target: tensor([   9, 1360,   22,  ...,    1,    1,    1], device='cuda:0')\n",
      "output: tensor([[-0.2472,  4.6412,  1.6638,  ...,  0.3019, -0.1545, -0.5270],\n",
      "        [ 0.5568,  6.2147,  1.5364,  ...,  0.3182,  0.8046, -0.5568],\n",
      "        [-0.3054,  3.7457,  0.3883,  ...,  0.7776,  0.9791, -0.4257],\n",
      "        ...,\n",
      "        [ 0.8512, 16.5565,  1.5842,  ...,  0.5396,  1.0929, -1.7230],\n",
      "        [ 0.5483, 15.3733,  1.0702,  ...,  0.7209,  0.1345, -0.6878],\n",
      "        [ 0.1296, 15.2571,  0.3472,  ...,  1.2973,  0.4090, -0.4843]],\n",
      "       device='cuda:0', grad_fn=<ViewBackward>)\n",
      "target: tensor([ 26,  15, 164,  ...,   1,   1,   1], device='cuda:0')\n",
      "output: tensor([[-0.1505,  5.5677, -0.0620,  ..., -0.5803,  0.7499, -0.8705],\n",
      "        [ 0.7116,  5.9101,  0.6048,  ...,  0.9859,  0.1481, -0.3259],\n",
      "        [-0.9219,  3.8840,  1.2018,  ..., -0.0622, -1.0320, -0.4650],\n",
      "        ...,\n",
      "        [ 0.6155, 16.2047,  1.4082,  ...,  0.5406,  1.0913, -1.7244],\n",
      "        [ 0.9100, 16.2575,  1.2016,  ...,  1.6325,  0.3115, -1.8938],\n",
      "        [ 0.5075, 14.8175,  0.9688,  ...,  1.0559,  0.3671, -1.4548]],\n",
      "       device='cuda:0', grad_fn=<ViewBackward>)\n",
      "target: tensor([1535,    9,    9,  ...,    1,    1,    1], device='cuda:0')\n",
      "output: tensor([[-0.1298,  4.4882,  0.1937,  ...,  0.1111,  0.0346, -0.9269],\n",
      "        [ 0.3500,  6.5306,  0.9836,  ...,  0.6065,  1.0654, -1.2334],\n",
      "        [-0.0896,  5.7898,  1.0598,  ...,  0.0568,  1.0584, -0.6734],\n",
      "        ...,\n",
      "        [ 0.4409, 15.4666,  0.4381,  ...,  1.2530,  0.9710, -0.8060],\n",
      "        [ 0.7827, 15.3764,  1.6287,  ...,  0.5615,  0.1800, -1.3797],\n",
      "        [ 0.2134, 14.6410,  1.1520,  ...,  0.1967,  0.4776, -1.9950]],\n",
      "       device='cuda:0', grad_fn=<ViewBackward>)\n",
      "target: tensor([20,  5, 22,  ...,  1,  1,  1], device='cuda:0')\n",
      "output: tensor([[-3.9659e-01,  4.8361e+00,  8.9245e-02,  ...,  5.1029e-01,\n",
      "          1.3001e+00, -9.2475e-01],\n",
      "        [-4.1388e-01,  5.6170e+00,  7.4168e-01,  ...,  2.3391e-01,\n",
      "         -2.0762e-01, -2.5998e-01],\n",
      "        [-7.4542e-01,  5.6925e+00,  5.0526e-01,  ...,  1.3956e+00,\n",
      "         -5.7726e-02, -9.9570e-01],\n",
      "        ...,\n",
      "        [ 3.2957e-01,  1.5375e+01,  6.8085e-01,  ...,  2.1650e+00,\n",
      "          4.5997e-03, -4.3282e-01],\n",
      "        [ 1.3204e-01,  1.5337e+01,  6.2484e-01,  ...,  2.1892e+00,\n",
      "          6.9850e-01, -1.0799e+00],\n",
      "        [ 1.7417e-01,  1.5528e+01,  4.0636e-01,  ...,  6.5234e-01,\n",
      "         -1.3547e-01, -1.4945e+00]], device='cuda:0', grad_fn=<ViewBackward>)\n",
      "target: tensor([27,  9, 21,  ...,  1,  1,  1], device='cuda:0')\n",
      "output: tensor([[ 1.7268e-01,  5.2171e+00,  6.0176e-01,  ...,  3.1441e-01,\n",
      "          7.8192e-03, -3.3958e-01],\n",
      "        [-1.1890e+00,  6.7053e+00,  4.1610e-01,  ..., -2.2643e-01,\n",
      "         -1.6698e-01, -1.0281e+00],\n",
      "        [-2.3038e-01,  5.1984e+00,  1.2195e+00,  ...,  7.4904e-01,\n",
      "          7.5379e-01,  2.6838e-01],\n",
      "        ...,\n",
      "        [ 7.7888e-01,  1.5354e+01,  1.0808e+00,  ...,  1.5212e+00,\n",
      "          1.1873e+00, -1.3860e+00],\n",
      "        [-1.4465e-01,  1.5443e+01,  6.3676e-01,  ...,  1.1801e+00,\n",
      "          4.7245e-01, -1.1729e+00],\n",
      "        [-1.5321e-01,  1.5047e+01,  4.0379e-02,  ...,  4.2228e-01,\n",
      "          5.8187e-01, -8.2242e-01]], device='cuda:0', grad_fn=<ViewBackward>)\n",
      "target: tensor([22,  9,  8,  ...,  1,  1,  1], device='cuda:0')\n",
      "output: tensor([[-0.7987,  6.4020,  0.8635,  ...,  0.1505,  0.1461, -0.3965],\n",
      "        [-0.9174,  5.8484,  0.2866,  ...,  0.1061,  0.1818, -0.1607],\n",
      "        [-0.2141,  6.7982,  0.8536,  ...,  0.4975,  0.1099, -0.7571],\n",
      "        ...,\n",
      "        [-0.4732, 16.5033,  0.0866,  ...,  1.1984,  0.6481, -1.3735],\n",
      "        [-0.6267, 16.4352, -0.1070,  ...,  1.1616, -0.0271, -1.9590],\n",
      "        [ 0.1553, 16.9947,  0.1598,  ...,  0.9381,  0.8846, -0.4940]],\n",
      "       device='cuda:0', grad_fn=<ViewBackward>)\n",
      "target: tensor([ 15,   8, 565,  ...,   1,   1,   1], device='cuda:0')\n",
      "output: tensor([[-0.1701,  6.5072,  0.4232,  ..., -0.6741,  0.9362, -1.0446],\n",
      "        [-0.1904,  6.5848,  0.6417,  ...,  0.5495,  0.4834, -1.1307],\n",
      "        [-0.5377,  3.8066,  0.7526,  ..., -0.1072,  0.3262, -0.4822],\n",
      "        ...,\n",
      "        [-0.1111, 14.9270,  0.5162,  ...,  1.5123,  0.0598, -0.7090],\n",
      "        [ 0.2127, 14.6082,  0.7293,  ...,  1.2266,  0.2873, -1.7869],\n",
      "        [-0.5080, 15.3192,  0.7346,  ...,  0.9110, -0.2623, -1.7598]],\n",
      "       device='cuda:0', grad_fn=<ViewBackward>)\n",
      "target: tensor([ 5, 21, 15,  ...,  1,  1,  1], device='cuda:0')\n",
      "output: tensor([[ 0.3267,  4.0556,  0.6775,  ...,  0.9791,  0.2350, -0.8699],\n",
      "        [ 0.4377,  5.9667, -0.2869,  ..., -0.5788,  0.0398, -0.7444],\n",
      "        [ 0.7353,  4.6591,  0.9931,  ...,  1.0391,  0.2659, -0.8121],\n",
      "        ...,\n",
      "        [ 1.0470, 16.1996,  0.6677,  ...,  1.1829,  0.3990, -1.1545],\n",
      "        [ 1.1968, 16.1866,  0.2971,  ...,  1.7300,  0.1651, -1.3512],\n",
      "        [ 1.2424, 15.9899,  1.0404,  ...,  1.0870,  0.7673, -1.3890]],\n",
      "       device='cuda:0', grad_fn=<ViewBackward>)\n",
      "target: tensor([ 20,  68, 991,  ...,   1,   1,   1], device='cuda:0')\n"
     ]
    },
    {
     "name": "stdout",
     "output_type": "stream",
     "text": [
      "output: tensor([[ 0.1079,  4.4961,  0.9175,  ...,  0.5126,  0.3808,  0.1991],\n",
      "        [-0.4351,  2.5651,  1.7747,  ...,  0.2530,  0.8921, -0.1898],\n",
      "        [ 0.2516,  4.6873,  0.3257,  ...,  0.3444,  0.2229, -0.5323],\n",
      "        ...,\n",
      "        [ 0.4446, 14.5260,  0.9656,  ...,  1.7403, -0.1812, -1.9533],\n",
      "        [ 0.4354, 14.0759,  0.7197,  ...,  1.2294,  0.2000, -0.9090],\n",
      "        [ 0.4747, 15.5304,  0.8057,  ...,  0.9872,  0.7091, -0.7105]],\n",
      "       device='cuda:0', grad_fn=<ViewBackward>)\n",
      "target: tensor([ 5, 62,  5,  ...,  1,  1,  1], device='cuda:0')\n",
      "output: tensor([[-0.6851,  5.2641,  1.3471,  ...,  1.1625,  0.1446, -0.2097],\n",
      "        [-0.7437,  8.2200,  0.1681,  ...,  0.5691,  0.4278, -1.0136],\n",
      "        [ 0.1432,  7.5121,  1.0056,  ...,  0.6397,  0.6320, -1.0441],\n",
      "        ...,\n",
      "        [ 1.1508, 17.3925,  0.9113,  ...,  1.1536,  0.5828, -1.0979],\n",
      "        [ 0.3608, 17.1995,  0.9168,  ...,  0.8463, -0.1223, -1.1825],\n",
      "        [ 0.2552, 16.4421,  0.2866,  ...,  0.7782,  0.2108, -1.6620]],\n",
      "       device='cuda:0', grad_fn=<ViewBackward>)\n",
      "target: tensor([ 15,   7, 725,  ...,   1,   1,   1], device='cuda:0')\n",
      "output: tensor([[-0.2905,  6.5152,  0.4933,  ..., -0.2845,  0.8615, -0.4681],\n",
      "        [ 0.4516,  5.9435,  0.7750,  ...,  0.4800, -0.1755, -0.9372],\n",
      "        [-0.4191,  7.2745,  1.5481,  ...,  0.2169,  0.9255, -1.3820],\n",
      "        ...,\n",
      "        [ 0.2014, 16.1579,  0.5522,  ...,  1.3555,  0.5465, -1.5113],\n",
      "        [-0.0804, 15.1457,  1.0713,  ...,  1.1723,  1.6768, -1.2249],\n",
      "        [ 1.3044, 15.6823,  0.5875,  ...,  1.6807,  0.6684, -1.3730]],\n",
      "       device='cuda:0', grad_fn=<ViewBackward>)\n",
      "target: tensor([2292,   16,   20,  ...,    1,    1,    1], device='cuda:0')\n",
      "output: tensor([[ 0.6679,  4.3970,  1.0097,  ...,  0.9736,  0.4806, -0.3520],\n",
      "        [ 0.0915,  3.8869,  0.5891,  ..., -0.4705,  0.5830, -0.6830],\n",
      "        [ 0.4373,  4.7999,  0.5131,  ...,  0.0960,  0.0685, -0.5046],\n",
      "        ...,\n",
      "        [ 0.8529, 15.9598,  0.5232,  ...,  0.1321,  0.8519, -1.5541],\n",
      "        [ 0.2689, 15.6280,  0.2485,  ...,  0.9881,  0.8049, -0.9879],\n",
      "        [ 0.0468, 15.7720, -0.7132,  ...,  0.8842,  0.0646, -1.6578]],\n",
      "       device='cuda:0', grad_fn=<ViewBackward>)\n",
      "target: tensor([ 9, 25, 16,  ...,  1,  1,  1], device='cuda:0')\n",
      "output: tensor([[-0.6808,  4.5926,  0.9574,  ..., -0.8711,  0.5635, -1.0661],\n",
      "        [-0.5092,  6.5946,  1.3772,  ...,  0.3398,  0.5365, -0.9624],\n",
      "        [-0.0692,  5.7635,  0.8757,  ...,  0.5734,  0.3113,  0.1386],\n",
      "        ...,\n",
      "        [ 0.4479, 15.7835,  0.9050,  ...,  1.0338,  0.6326, -1.5068],\n",
      "        [ 0.2659, 16.3118,  0.1328,  ...,  0.7621,  1.3528, -1.0116],\n",
      "        [ 0.4054, 15.9619,  1.7714,  ...,  1.3917,  0.6438, -0.7652]],\n",
      "       device='cuda:0', grad_fn=<ViewBackward>)\n",
      "target: tensor([   9, 2305, 2257,  ...,    1,    1,    1], device='cuda:0')\n",
      "output: tensor([[ 0.3304,  7.0050,  0.5048,  ...,  0.1897, -0.0939, -0.9290],\n",
      "        [ 0.1158,  6.2252,  1.2566,  ..., -0.2541,  0.4833,  0.0595],\n",
      "        [-0.0236,  6.7443,  0.5759,  ...,  0.2674,  0.6746, -1.3022],\n",
      "        ...,\n",
      "        [ 0.4527, 15.6007,  0.2461,  ...,  2.5364, -0.4061, -1.6508],\n",
      "        [-0.2171, 16.6583,  0.2702,  ...,  1.5079,  0.3337, -0.8050],\n",
      "        [ 1.1421, 15.8080,  0.6249,  ...,  1.4876,  0.3058, -2.2344]],\n",
      "       device='cuda:0', grad_fn=<ViewBackward>)\n",
      "target: tensor([  8,  21, 330,  ...,   1,   1,   1], device='cuda:0')\n",
      "output: tensor([[ 2.0138e-01,  3.7713e+00,  2.5882e-01,  ..., -7.2559e-01,\n",
      "         -2.7438e-01, -4.9217e-01],\n",
      "        [-8.8259e-01,  3.6406e+00,  5.2512e-01,  ..., -4.0370e-01,\n",
      "         -1.0836e-01,  3.7101e-03],\n",
      "        [-4.6588e-02,  5.1674e+00, -1.3824e-01,  ...,  2.2874e-01,\n",
      "          7.6378e-01, -7.8664e-01],\n",
      "        ...,\n",
      "        [ 4.8476e-01,  1.5003e+01,  1.5480e+00,  ...,  1.8116e+00,\n",
      "          4.1631e-01, -9.5110e-01],\n",
      "        [ 6.4319e-01,  1.5375e+01,  2.2797e-02,  ...,  2.0420e+00,\n",
      "          7.1846e-02, -1.9332e+00],\n",
      "        [ 4.2860e-01,  1.4773e+01, -4.4446e-01,  ...,  1.1975e+00,\n",
      "          5.7943e-01, -2.4688e+00]], device='cuda:0', grad_fn=<ViewBackward>)\n",
      "target: tensor([  9,  31, 240,  ...,   1,   1,   1], device='cuda:0')\n",
      "output: tensor([[-0.1761,  5.5861,  0.4188,  ..., -0.4119,  0.5377, -0.3246],\n",
      "        [ 0.5961,  7.6018,  0.5934,  ...,  0.5051,  0.6062, -0.2265],\n",
      "        [-1.2066,  6.0210,  0.7229,  ...,  1.0616,  0.2333, -1.2182],\n",
      "        ...,\n",
      "        [ 0.5439, 16.6815,  1.0967,  ...,  0.5943,  0.7924, -1.0861],\n",
      "        [-0.4341, 17.3993,  0.7425,  ...,  0.4307,  1.6385, -1.0698],\n",
      "        [ 0.2742, 16.2795,  0.5226,  ...,  0.7788,  0.7099, -1.1573]],\n",
      "       device='cuda:0', grad_fn=<ViewBackward>)\n",
      "target: tensor([ 16,  14, 404,  ...,   1,   1,   1], device='cuda:0')\n",
      "output: tensor([[-0.3985,  3.4509,  1.1328,  ...,  0.7826,  0.6046, -0.3090],\n",
      "        [-0.4462,  3.6254,  0.3560,  ..., -0.3814,  0.6565, -0.5634],\n",
      "        [ 0.0452,  6.0588,  0.8909,  ...,  0.3586,  0.9331, -0.6991],\n",
      "        ...,\n",
      "        [ 1.1029, 15.7642,  0.6915,  ...,  0.8488,  0.2457, -1.0379],\n",
      "        [ 0.6666, 15.8324,  0.4185,  ...,  1.4055, -0.2918, -1.1397],\n",
      "        [ 0.2253, 15.0028,  0.8208,  ...,  1.1026,  0.3784, -0.9236]],\n",
      "       device='cuda:0', grad_fn=<ViewBackward>)\n",
      "target: tensor([14, 27,  7,  ...,  1,  1,  1], device='cuda:0')\n",
      "output: tensor([[-0.5088,  8.1871,  0.4248,  ..., -0.5112, -0.0339, -1.2050],\n",
      "        [ 0.3322,  7.4181,  0.8900,  ...,  0.8592,  0.3853,  0.4605],\n",
      "        [-0.4377,  6.3730,  0.6806,  ...,  0.7216,  0.3964,  0.0216],\n",
      "        ...,\n",
      "        [ 0.1430, 17.0023,  0.5526,  ...,  0.7583,  0.1990, -1.0329],\n",
      "        [ 0.0452, 16.5440,  0.6996,  ...,  0.4609,  0.9354, -0.9712],\n",
      "        [ 0.3773, 16.4258,  0.3021,  ...,  0.8896,  1.0008, -1.6188]],\n",
      "       device='cuda:0', grad_fn=<ViewBackward>)\n",
      "target: tensor([  14, 1830,    9,  ...,    1,    1,    1], device='cuda:0')\n",
      "output: tensor([[-1.0013,  5.6548,  0.5611,  ..., -0.1698,  0.2634, -0.1880],\n",
      "        [ 0.4724,  6.8865,  0.9106,  ..., -0.1361,  0.1116, -0.1748],\n",
      "        [-0.0709,  4.0852,  0.1475,  ...,  0.5962, -0.4858, -0.8721],\n",
      "        ...,\n",
      "        [ 0.1274, 16.3711,  0.3833,  ...,  1.2179, -0.4242, -1.3917],\n",
      "        [ 0.5009, 16.1376,  0.2415,  ...,  1.6652,  0.8720, -0.4971],\n",
      "        [ 0.2059, 15.9689,  0.8171,  ...,  0.5025,  0.4021, -1.3664]],\n",
      "       device='cuda:0', grad_fn=<ViewBackward>)\n",
      "target: tensor([17, 28, 15,  ...,  1,  1,  1], device='cuda:0')\n",
      "output: tensor([[-0.5722,  6.5473,  0.4585,  ...,  0.9814,  0.0933, -0.2005],\n",
      "        [ 0.1706,  3.9458,  0.6620,  ..., -0.2974,  0.7223,  0.0771],\n",
      "        [-0.6894,  6.0755,  0.3279,  ...,  0.8589,  0.3360, -1.2402],\n",
      "        ...,\n",
      "        [-0.1626, 16.5991,  1.0047,  ...,  0.6826,  0.6469, -1.1768],\n",
      "        [ 0.8258, 16.7786,  0.7541,  ...,  0.9846,  0.3261, -1.4298],\n",
      "        [ 0.3299, 15.9643,  1.0099,  ...,  0.8402,  0.9084, -1.6422]],\n",
      "       device='cuda:0', grad_fn=<ViewBackward>)\n",
      "target: tensor([21, 42, 15,  ...,  1,  1,  1], device='cuda:0')\n",
      "output: tensor([[ 0.1070,  6.4426,  0.3167,  ..., -0.2864,  0.3386, -0.9899],\n",
      "        [ 0.0314,  6.6932,  1.3109,  ..., -0.0524,  0.4183, -0.2811],\n",
      "        [-0.6500,  5.5109,  0.2444,  ...,  0.1433,  0.3001,  0.2972],\n",
      "        ...,\n",
      "        [-0.2262, 15.0627,  1.4263,  ...,  1.0205,  0.5256, -1.9841],\n",
      "        [-0.3587, 15.7866,  1.1978,  ...,  1.6339,  0.3339, -1.5869],\n",
      "        [ 0.3281, 15.8502,  1.0727,  ...,  0.3056,  0.4021, -1.8958]],\n",
      "       device='cuda:0', grad_fn=<ViewBackward>)\n",
      "target: tensor([15, 17, 29,  ...,  1,  1,  1], device='cuda:0')\n",
      "output: tensor([[-1.1464,  6.3708,  0.4364,  ...,  0.1798,  0.6355, -1.1238],\n",
      "        [-0.0512,  5.9051,  1.4313,  ..., -0.2717,  0.0242, -1.4556],\n",
      "        [-0.6040,  6.1394, -0.3104,  ...,  0.3574,  0.6812, -0.5806],\n",
      "        ...,\n",
      "        [ 0.3444, 16.2773,  0.8066,  ...,  0.9950,  1.0131, -1.7692],\n",
      "        [ 1.1143, 15.9797,  0.8060,  ...,  0.3065, -0.0669, -1.5027],\n",
      "        [-0.1011, 16.8033,  0.9664,  ...,  1.1415,  0.2263, -1.1099]],\n",
      "       device='cuda:0', grad_fn=<ViewBackward>)\n",
      "target: tensor([ 15, 108,  38,  ...,   1,   1,   1], device='cuda:0')\n",
      "output: tensor([[ 0.1097,  3.0907,  0.3719,  ..., -0.8391,  0.3389, -1.9380],\n",
      "        [ 1.4980,  6.4952,  1.0740,  ..., -0.1923,  1.0936, -1.0679],\n",
      "        [ 0.5516,  5.4740,  1.7530,  ...,  0.5499,  1.2721, -0.5038],\n",
      "        ...,\n",
      "        [ 0.3605, 15.7888,  0.8863,  ...,  2.1247, -0.0628, -1.2360],\n",
      "        [ 0.6030, 16.5648,  1.2903,  ...,  1.2317,  0.6241, -2.1121],\n",
      "        [ 1.1472, 16.6308,  0.1169,  ...,  0.9775,  0.4278, -1.8538]],\n",
      "       device='cuda:0', grad_fn=<ViewBackward>)\n",
      "target: tensor([1037,    5,   89,  ...,    1,    1,    1], device='cuda:0')\n",
      "output: tensor([[ 0.7747,  9.8201,  0.7495,  ...,  0.7450, -0.1353, -1.0936],\n",
      "        [ 0.0874,  6.1172,  1.2558,  ...,  1.2880,  1.1121, -0.8767],\n",
      "        [ 0.0501,  6.1556,  0.8018,  ..., -0.1931,  0.8104, -0.8452],\n",
      "        ...,\n",
      "        [ 0.3303, 17.2415,  0.8204,  ...,  1.4837,  0.5036, -1.9374],\n",
      "        [ 0.3014, 16.4354,  1.2891,  ...,  0.5752,  0.0186, -1.6668],\n",
      "        [-0.3123, 16.4720,  0.5245,  ...,  0.6768,  0.5362, -1.5498]],\n",
      "       device='cuda:0', grad_fn=<ViewBackward>)\n",
      "target: tensor([155,   7,  31,  ...,   1,   1,   1], device='cuda:0')\n"
     ]
    },
    {
     "ename": "KeyboardInterrupt",
     "evalue": "",
     "output_type": "error",
     "traceback": [
      "\u001b[1;31m---------------------------------------------------------------------------\u001b[0m",
      "\u001b[1;31mKeyboardInterrupt\u001b[0m                         Traceback (most recent call last)",
      "\u001b[1;32m<ipython-input-88-0de80d486018>\u001b[0m in \u001b[0;36m<module>\u001b[1;34m\u001b[0m\n\u001b[0;32m      6\u001b[0m \u001b[1;32mfor\u001b[0m \u001b[0mepoch\u001b[0m \u001b[1;32min\u001b[0m \u001b[0mrange\u001b[0m\u001b[1;33m(\u001b[0m\u001b[1;36m1\u001b[0m\u001b[1;33m,\u001b[0m \u001b[0mepochs\u001b[0m \u001b[1;33m+\u001b[0m \u001b[1;36m1\u001b[0m\u001b[1;33m)\u001b[0m\u001b[1;33m:\u001b[0m\u001b[1;33m\u001b[0m\u001b[1;33m\u001b[0m\u001b[0m\n\u001b[0;32m      7\u001b[0m     \u001b[0mepoch_start_time\u001b[0m \u001b[1;33m=\u001b[0m \u001b[0mtime\u001b[0m\u001b[1;33m.\u001b[0m\u001b[0mtime\u001b[0m\u001b[1;33m(\u001b[0m\u001b[1;33m)\u001b[0m\u001b[1;33m\u001b[0m\u001b[1;33m\u001b[0m\u001b[0m\n\u001b[1;32m----> 8\u001b[1;33m     \u001b[0mtrain\u001b[0m\u001b[1;33m(\u001b[0m\u001b[0mtrain_iter\u001b[0m\u001b[1;33m)\u001b[0m\u001b[1;33m\u001b[0m\u001b[1;33m\u001b[0m\u001b[0m\n\u001b[0m\u001b[0;32m      9\u001b[0m     \u001b[0mval_loss\u001b[0m \u001b[1;33m=\u001b[0m \u001b[0mevaluate\u001b[0m\u001b[1;33m(\u001b[0m\u001b[0mmodel\u001b[0m\u001b[1;33m,\u001b[0m \u001b[0mval_iter\u001b[0m\u001b[1;33m)\u001b[0m\u001b[1;33m\u001b[0m\u001b[1;33m\u001b[0m\u001b[0m\n\u001b[0;32m     10\u001b[0m     \u001b[0mprint\u001b[0m\u001b[1;33m(\u001b[0m\u001b[1;34m'-'\u001b[0m \u001b[1;33m*\u001b[0m \u001b[1;36m89\u001b[0m\u001b[1;33m)\u001b[0m\u001b[1;33m\u001b[0m\u001b[1;33m\u001b[0m\u001b[0m\n",
      "\u001b[1;32m<ipython-input-87-01af2485f681>\u001b[0m in \u001b[0;36mtrain\u001b[1;34m(iterator)\u001b[0m\n\u001b[0;32m     21\u001b[0m         \u001b[0mprint\u001b[0m\u001b[1;33m(\u001b[0m\u001b[1;34m\"target:\"\u001b[0m\u001b[1;33m,\u001b[0m\u001b[0mtargets\u001b[0m\u001b[1;33m)\u001b[0m\u001b[1;33m\u001b[0m\u001b[1;33m\u001b[0m\u001b[0m\n\u001b[0;32m     22\u001b[0m         \u001b[0mloss\u001b[0m \u001b[1;33m=\u001b[0m \u001b[0mcriterion\u001b[0m\u001b[1;33m(\u001b[0m\u001b[0moutput\u001b[0m\u001b[1;33m,\u001b[0m \u001b[0mtargets\u001b[0m\u001b[1;33m)\u001b[0m\u001b[1;33m\u001b[0m\u001b[1;33m\u001b[0m\u001b[0m\n\u001b[1;32m---> 23\u001b[1;33m         \u001b[0mloss\u001b[0m\u001b[1;33m.\u001b[0m\u001b[0mbackward\u001b[0m\u001b[1;33m(\u001b[0m\u001b[1;33m)\u001b[0m\u001b[1;33m\u001b[0m\u001b[1;33m\u001b[0m\u001b[0m\n\u001b[0m\u001b[0;32m     24\u001b[0m         \u001b[0mtorch\u001b[0m\u001b[1;33m.\u001b[0m\u001b[0mnn\u001b[0m\u001b[1;33m.\u001b[0m\u001b[0mutils\u001b[0m\u001b[1;33m.\u001b[0m\u001b[0mclip_grad_norm_\u001b[0m\u001b[1;33m(\u001b[0m\u001b[0mmodel\u001b[0m\u001b[1;33m.\u001b[0m\u001b[0mparameters\u001b[0m\u001b[1;33m(\u001b[0m\u001b[1;33m)\u001b[0m\u001b[1;33m,\u001b[0m \u001b[1;36m0.5\u001b[0m\u001b[1;33m)\u001b[0m\u001b[1;33m\u001b[0m\u001b[1;33m\u001b[0m\u001b[0m\n\u001b[0;32m     25\u001b[0m         \u001b[0moptimizer\u001b[0m\u001b[1;33m.\u001b[0m\u001b[0mstep\u001b[0m\u001b[1;33m(\u001b[0m\u001b[1;33m)\u001b[0m\u001b[1;33m\u001b[0m\u001b[1;33m\u001b[0m\u001b[0m\n",
      "\u001b[1;32m~\\anaconda3\\envs\\school\\lib\\site-packages\\torch\\tensor.py\u001b[0m in \u001b[0;36mbackward\u001b[1;34m(self, gradient, retain_graph, create_graph)\u001b[0m\n\u001b[0;32m    196\u001b[0m                 \u001b[0mproducts\u001b[0m\u001b[1;33m.\u001b[0m \u001b[0mDefaults\u001b[0m \u001b[0mto\u001b[0m\u001b[0;31m \u001b[0m\u001b[0;31m`\u001b[0m\u001b[0;31m`\u001b[0m\u001b[1;32mFalse\u001b[0m\u001b[0;31m`\u001b[0m\u001b[0;31m`\u001b[0m\u001b[1;33m.\u001b[0m\u001b[1;33m\u001b[0m\u001b[1;33m\u001b[0m\u001b[0m\n\u001b[0;32m    197\u001b[0m         \"\"\"\n\u001b[1;32m--> 198\u001b[1;33m         \u001b[0mtorch\u001b[0m\u001b[1;33m.\u001b[0m\u001b[0mautograd\u001b[0m\u001b[1;33m.\u001b[0m\u001b[0mbackward\u001b[0m\u001b[1;33m(\u001b[0m\u001b[0mself\u001b[0m\u001b[1;33m,\u001b[0m \u001b[0mgradient\u001b[0m\u001b[1;33m,\u001b[0m \u001b[0mretain_graph\u001b[0m\u001b[1;33m,\u001b[0m \u001b[0mcreate_graph\u001b[0m\u001b[1;33m)\u001b[0m\u001b[1;33m\u001b[0m\u001b[1;33m\u001b[0m\u001b[0m\n\u001b[0m\u001b[0;32m    199\u001b[0m \u001b[1;33m\u001b[0m\u001b[0m\n\u001b[0;32m    200\u001b[0m     \u001b[1;32mdef\u001b[0m \u001b[0mregister_hook\u001b[0m\u001b[1;33m(\u001b[0m\u001b[0mself\u001b[0m\u001b[1;33m,\u001b[0m \u001b[0mhook\u001b[0m\u001b[1;33m)\u001b[0m\u001b[1;33m:\u001b[0m\u001b[1;33m\u001b[0m\u001b[1;33m\u001b[0m\u001b[0m\n",
      "\u001b[1;32m~\\anaconda3\\envs\\school\\lib\\site-packages\\torch\\autograd\\__init__.py\u001b[0m in \u001b[0;36mbackward\u001b[1;34m(tensors, grad_tensors, retain_graph, create_graph, grad_variables)\u001b[0m\n\u001b[0;32m     98\u001b[0m     Variable._execution_engine.run_backward(\n\u001b[0;32m     99\u001b[0m         \u001b[0mtensors\u001b[0m\u001b[1;33m,\u001b[0m \u001b[0mgrad_tensors\u001b[0m\u001b[1;33m,\u001b[0m \u001b[0mretain_graph\u001b[0m\u001b[1;33m,\u001b[0m \u001b[0mcreate_graph\u001b[0m\u001b[1;33m,\u001b[0m\u001b[1;33m\u001b[0m\u001b[1;33m\u001b[0m\u001b[0m\n\u001b[1;32m--> 100\u001b[1;33m         allow_unreachable=True)  # allow_unreachable flag\n\u001b[0m\u001b[0;32m    101\u001b[0m \u001b[1;33m\u001b[0m\u001b[0m\n\u001b[0;32m    102\u001b[0m \u001b[1;33m\u001b[0m\u001b[0m\n",
      "\u001b[1;31mKeyboardInterrupt\u001b[0m: "
     ]
    }
   ],
   "source": [
    "best_val_loss = float(\"inf\")\n",
    "epochs = 100# The number of epochs\n",
    "best_model = None\n",
    "model.init_weights()\n",
    "\n",
    "for epoch in range(1, epochs + 1):\n",
    "    epoch_start_time = time.time()\n",
    "    train(train_iter)\n",
    "    val_loss = evaluate(model, val_iter)\n",
    "    print('-' * 89)\n",
    "    print('| end of epoch {:3d} | time: {:5.2f}s | valid loss {:5.2f} | '\n",
    "          'valid ppl {:8.2f}'.format(epoch, (time.time() - epoch_start_time),\n",
    "                                     val_loss, math.exp(val_loss)))\n",
    "\n",
    "    if val_loss < best_val_loss:\n",
    "        best_val_loss = val_loss\n",
    "        best_model = model\n",
    "\n",
    "    scheduler.step()"
   ]
  },
  {
   "cell_type": "code",
   "execution_count": null,
   "metadata": {
    "id": "6andFXy1or7x"
   },
   "outputs": [],
   "source": [
    "test_loss = evaluate(best_model, test_iter)\n",
    "print('=' * 89)\n",
    "print('| End of training | test loss {:5.2f} | test ppl {:8.2f}'.format(\n",
    "    test_loss, math.exp(test_loss)))\n",
    "print('=' * 89)"
   ]
  },
  {
   "cell_type": "code",
   "execution_count": null,
   "metadata": {
    "id": "vOLgVcFE_n15"
   },
   "outputs": [],
   "source": [
    "torch.save(best_model.state_dict(), \"./model/transformer.pth\")"
   ]
  },
  {
   "cell_type": "code",
   "execution_count": null,
   "metadata": {
    "id": "m9G-YLtje1TX"
   },
   "outputs": [],
   "source": [
    "model.state_dict(torch.load(\"./model/transformer.pth\"))"
   ]
  },
  {
   "cell_type": "code",
   "execution_count": null,
   "metadata": {
    "id": "FBZa649k2P36"
   },
   "outputs": [],
   "source": [
    "def gen_sentence(sentence, src_field, trg_field, model, batch_size):\n",
    "  model.eval()\n",
    "  in_str, out_str, pred, tmp = [], [], [], []\n",
    "  length = len(sentence)\n",
    "\n",
    "  with torch.no_grad():\n",
    "    for _, batch in enumerate(sentence):\n",
    "      src = batch.SRC\n",
    "      trg = batch.TRG\n",
    "      src_mask = model.generate_square_subsequent_mask(src.shape[0]).to(device)\n",
    "      output = model(src, src_mask)\n",
    "          \n",
    "      for j in range(min(length, batch_size)):\n",
    "        _, topi = output.data.topk(1)\n",
    "        _, topi_s = output.data.topk(2) \n",
    "        for k in range(topi.size()[1]):\n",
    "          if topi[:, k][0] == trg_field.vocab.stoi[\"<eos>\"]:\n",
    "            for m in range(topi_s.size()[0]):\n",
    "              for l in range(topi_s.size()[1]):\n",
    "                topi[m][l][0] = topi_s[m][l][1]\n",
    "          for i in range(topi.size()[0]):\n",
    "            if trg_field.vocab.itos[topi[:, k][i]] == \"<eos>\":\n",
    "              break\n",
    "            tmp.append(trg_field.vocab.itos[topi[:, k][i]])\n",
    "          pred.append(tmp)\n",
    "          print(tmp)\n",
    "          tmp = []\n",
    "        in_str.append([src_field.vocab.itos[i.item()] for i in src[:,j] if src_field.vocab.itos[i.item()] != \"<eos>\"])\n",
    "        out_str.append([trg_field.vocab.itos[i.item()] for i in trg[:,j] if trg_field.vocab.itos[i.item()] != \"<eos>\"])\n",
    "      \n",
    "  return in_str, out_str, pred"
   ]
  },
  {
   "cell_type": "code",
   "execution_count": null,
   "metadata": {
    "id": "1RIlFI5G5JzZ"
   },
   "outputs": [],
   "source": [
    "# 中間発表時にはテストデータは用いない\n",
    "test_in, test_out, test_pred = [],[],[]\n",
    "test_in, test_out, test_pred = gen_sentence(test_iter, SRC, TRG, model, test_batch_size)"
   ]
  },
  {
   "cell_type": "code",
   "execution_count": null,
   "metadata": {
    "id": "BG29LUs-IeWT"
   },
   "outputs": [],
   "source": [
    "val_in, val_out, val_pred = [],[],[]\n",
    "val_in, val_out, val_pred = gen_sentence(val_iter, SRC, TRG, best_model, eval_batch_size)"
   ]
  },
  {
   "cell_type": "code",
   "execution_count": null,
   "metadata": {
    "id": "r2Us-WpbIewl",
    "scrolled": false
   },
   "outputs": [],
   "source": [
    "train_in, train_out, train_pred = [],[],[]\n",
    "train_in, train_out, train_pred = gen_sentence(train_iter, SRC, TRG, best_model, train_batch_size)"
   ]
  },
  {
   "cell_type": "code",
   "execution_count": null,
   "metadata": {
    "id": "mlA-NqUEIjck"
   },
   "outputs": [],
   "source": [
    "import pandas as pd"
   ]
  },
  {
   "cell_type": "code",
   "execution_count": null,
   "metadata": {
    "id": "wBlexgq5IlSW"
   },
   "outputs": [],
   "source": [
    "def convert_list_to_df(in_list, out_list, pred_list):\n",
    "  row = []\n",
    "  for i in range(len(in_list)):\n",
    "    batch_input = in_list[i]\n",
    "    batch_output = out_list[i]\n",
    "    batch_pred = pred_list[i]\n",
    "    input = [j for j in batch_input if j != \"<pad>\" and j != \"<sos>\" and j != \"<eos>\" and j != \"<unk>\"]\n",
    "    output = [j for j in batch_output if j != \"<pad>\" and j != \"<sos>\" and j != \"<eos>\" and j != \"<unk>\"]\n",
    "    predict = [j for j in batch_pred if j != \"<pad>\" and j != \"<sos>\" and j != \"<eos>\" and j != \"<unk>\"]\n",
    "    input_str = \"\".join(input)\n",
    "    output_str =\"\".join(output)\n",
    "    predict_str = \"\".join(predict)\n",
    "    row.append([input_str, output_str, predict_str])\n",
    "\n",
    "  df = pd.DataFrame(row, columns=[\"input\",\"answer\",\"predict\"])\n",
    "  df = df.sort_values('input')\n",
    "  return df"
   ]
  },
  {
   "cell_type": "code",
   "execution_count": null,
   "metadata": {
    "id": "6pVoCwc_Inol"
   },
   "outputs": [],
   "source": [
    "train_df = convert_list_to_df(train_in, train_out, train_pred)\n",
    "val_df = convert_list_to_df(val_in, val_out, val_pred)\n",
    "test_df = convert_list_to_df(test_in, test_out, test_pred)"
   ]
  },
  {
   "cell_type": "code",
   "execution_count": null,
   "metadata": {
    "id": "ptcsBPKZi-0t"
   },
   "outputs": [],
   "source": [
    "df_s = pd.concat([train_df, test_df]).sort_values('input')"
   ]
  },
  {
   "cell_type": "code",
   "execution_count": null,
   "metadata": {
    "id": "-Yd2nXK5jJKT"
   },
   "outputs": [],
   "source": [
    "df_s.head(10)"
   ]
  },
  {
   "cell_type": "code",
   "execution_count": null,
   "metadata": {
    "id": "8870OnPUjK13"
   },
   "outputs": [],
   "source": [
    "df_s.to_csv(\"./csv/result_transformer.csv\")"
   ]
  },
  {
   "cell_type": "code",
   "execution_count": null,
   "metadata": {
    "id": "mDs4JDh-qAf0"
   },
   "outputs": [],
   "source": []
  }
 ],
 "metadata": {
  "colab": {
   "authorship_tag": "ABX9TyNZ+e/Ia2ukWcxfBj2V0XcK",
   "collapsed_sections": [],
   "name": "transformers.ipynb",
   "provenance": []
  },
  "kernelspec": {
   "display_name": "Python 3",
   "language": "python",
   "name": "python3"
  },
  "language_info": {
   "codemirror_mode": {
    "name": "ipython",
    "version": 3
   },
   "file_extension": ".py",
   "mimetype": "text/x-python",
   "name": "python",
   "nbconvert_exporter": "python",
   "pygments_lexer": "ipython3",
   "version": "3.7.1"
  }
 },
 "nbformat": 4,
 "nbformat_minor": 1
}
