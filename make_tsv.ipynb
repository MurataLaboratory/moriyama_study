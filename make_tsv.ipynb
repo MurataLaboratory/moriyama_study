{
 "cells": [
  {
   "cell_type": "code",
   "execution_count": 5,
   "metadata": {},
   "outputs": [],
   "source": [
    "import os"
   ]
  },
  {
   "cell_type": "code",
   "execution_count": 6,
   "metadata": {},
   "outputs": [
    {
     "data": {
      "text/plain": [
       "'C:\\\\Users\\\\keisc\\\\Documents\\\\GitHub\\\\moriyama_study'"
      ]
     },
     "execution_count": 6,
     "metadata": {},
     "output_type": "execute_result"
    }
   ],
   "source": [
    "os.getcwd()"
   ]
  },
  {
   "cell_type": "code",
   "execution_count": 7,
   "metadata": {},
   "outputs": [
    {
     "data": {
      "text/plain": [
       "'C:\\\\Users\\\\keisc\\\\Documents\\\\GitHub\\\\moriyama_study\\\\res.txt'"
      ]
     },
     "execution_count": 7,
     "metadata": {},
     "output_type": "execute_result"
    }
   ],
   "source": [
    "res_path = os.getcwd()+'\\\\res.txt'\n",
    "speak_path = os.getcwd()+'\\\\speak.txt'\n",
    "res_path"
   ]
  },
  {
   "cell_type": "code",
   "execution_count": 8,
   "metadata": {},
   "outputs": [
    {
     "name": "stdout",
     "output_type": "stream",
     "text": [
      "22284\n"
     ]
    }
   ],
   "source": [
    "speak, res = [],[]\n",
    "with open(res_path,\"r\",encoding='utf-8')as f:\n",
    "    res = f.readlines()\n",
    "\n",
    "with open(speak_path,\"r\",encoding='utf-8') as f:\n",
    "    speak = f.readlines()\n",
    "\n",
    "print(len(res))"
   ]
  },
  {
   "cell_type": "code",
   "execution_count": 9,
   "metadata": {},
   "outputs": [
    {
     "data": {
      "text/plain": [
       "'Eああ \\n'"
      ]
     },
     "execution_count": 9,
     "metadata": {},
     "output_type": "execute_result"
    }
   ],
   "source": [
    "\"E\" + res[0].replace(\"_\",\"\")"
   ]
  },
  {
   "cell_type": "code",
   "execution_count": 10,
   "metadata": {},
   "outputs": [
    {
     "data": {
      "text/plain": [
       "'子供 が です ね 3 人 あの \\n'"
      ]
     },
     "execution_count": 10,
     "metadata": {},
     "output_type": "execute_result"
    }
   ],
   "source": [
    "speak[0]"
   ]
  },
  {
   "cell_type": "code",
   "execution_count": 11,
   "metadata": {},
   "outputs": [
    {
     "data": {
      "text/plain": [
       "'子供 が です ね 3 人 あの \\n_ああ \\n'"
      ]
     },
     "execution_count": 11,
     "metadata": {},
     "output_type": "execute_result"
    }
   ],
   "source": [
    "speak[0]+res[0]"
   ]
  },
  {
   "cell_type": "code",
   "execution_count": 25,
   "metadata": {},
   "outputs": [
    {
     "name": "stdout",
     "output_type": "stream",
     "text": [
      "0\n"
     ]
    }
   ],
   "source": [
    "out = []\n",
    "print(len(out))\n",
    "for i in range(len(res)):\n",
    "    speak_str = speak[i].replace('\\n','').replace(' ','')\n",
    "    res_str = res[i].replace('_','\\t').replace(' ','').replace('\\n','') + \"\\n\"\n",
    "    #res_str.replace('_',' ')\n",
    "    out_str = speak_str+res_str\n",
    "    out.append(out_str)"
   ]
  },
  {
   "cell_type": "code",
   "execution_count": 26,
   "metadata": {},
   "outputs": [
    {
     "name": "stdout",
     "output_type": "stream",
     "text": [
      "22284\n"
     ]
    }
   ],
   "source": [
    "out1 = []\n",
    "print(len(out))\n",
    "for i in range(len(res)):\n",
    "    speak_str = speak[i].replace('\\n','').replace(' ','')\n",
    "    res_str = res[i].replace('_','\\t').replace(' ','')\n",
    "    #res_str.replace('_',' ')\n",
    "    out_str = speak_str+res_str\n",
    "    out1.append(out_str)"
   ]
  },
  {
   "cell_type": "code",
   "execution_count": 27,
   "metadata": {},
   "outputs": [
    {
     "data": {
      "text/plain": [
       "'子供がですね3人あの\\tああ\\n'"
      ]
     },
     "execution_count": 27,
     "metadata": {},
     "output_type": "execute_result"
    }
   ],
   "source": [
    "out1[0]"
   ]
  },
  {
   "cell_type": "code",
   "execution_count": 28,
   "metadata": {},
   "outputs": [
    {
     "data": {
      "text/plain": [
       "22284"
      ]
     },
     "execution_count": 28,
     "metadata": {},
     "output_type": "execute_result"
    }
   ],
   "source": [
    "len(out)"
   ]
  },
  {
   "cell_type": "code",
   "execution_count": 29,
   "metadata": {},
   "outputs": [
    {
     "data": {
      "text/plain": [
       "'子供がですね3人あの女の子ばっかしなんですけど\\tあーそうですか\\n'"
      ]
     },
     "execution_count": 29,
     "metadata": {},
     "output_type": "execute_result"
    }
   ],
   "source": [
    "out[1]"
   ]
  },
  {
   "cell_type": "code",
   "execution_count": 30,
   "metadata": {},
   "outputs": [],
   "source": [
    "path = os.getcwd()+'//train.tsv'\n",
    "lim1 = 20000\n",
    "with open(path,\"w\",encoding='utf-8') as f:\n",
    "    for i in range(lim1):\n",
    "        f.write(out[i])"
   ]
  },
  {
   "cell_type": "code",
   "execution_count": 31,
   "metadata": {},
   "outputs": [],
   "source": [
    "path = os.getcwd()+'//test.tsv'\n",
    "lim2 = lim1 + 1142\n",
    "with open(path,\"w\",encoding='utf-8') as f:\n",
    "    for i in range(lim1+1,lim2):\n",
    "        f.write(out[i])"
   ]
  },
  {
   "cell_type": "code",
   "execution_count": 32,
   "metadata": {},
   "outputs": [],
   "source": [
    "path = os.getcwd()+'//val.tsv'\n",
    "with open(path,\"w\",encoding='utf-8') as f:\n",
    "    for i in range(lim2+1,len(out)):\n",
    "        f.write(out[i])"
   ]
  },
  {
   "cell_type": "code",
   "execution_count": 24,
   "metadata": {},
   "outputs": [],
   "source": [
    "path = os.getcwd()+'//data.tsv'\n",
    "with open(path,\"w\",encoding='utf-8') as f:\n",
    "    for i in range(len(out1)):\n",
    "        f.write(out1[i])"
   ]
  },
  {
   "cell_type": "code",
   "execution_count": null,
   "metadata": {},
   "outputs": [],
   "source": []
  },
  {
   "cell_type": "code",
   "execution_count": null,
   "metadata": {},
   "outputs": [],
   "source": []
  },
  {
   "cell_type": "code",
   "execution_count": null,
   "metadata": {},
   "outputs": [],
   "source": []
  }
 ],
 "metadata": {
  "kernelspec": {
   "display_name": "Python 3",
   "language": "python",
   "name": "python3"
  },
  "language_info": {
   "codemirror_mode": {
    "name": "ipython",
    "version": 3
   },
   "file_extension": ".py",
   "mimetype": "text/x-python",
   "name": "python",
   "nbconvert_exporter": "python",
   "pygments_lexer": "ipython3",
   "version": "3.8.5"
  }
 },
 "nbformat": 4,
 "nbformat_minor": 4
}
