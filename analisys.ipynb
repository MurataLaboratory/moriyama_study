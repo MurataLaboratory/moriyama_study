{
 "cells": [
  {
   "cell_type": "code",
   "execution_count": 1,
   "metadata": {},
   "outputs": [],
   "source": [
    "import pandas as pd\n",
    "path = \"./csv/\""
   ]
  },
  {
   "cell_type": "code",
   "execution_count": 2,
   "metadata": {},
   "outputs": [
    {
     "name": "stdout",
     "output_type": "stream",
     "text": [
      "15598\n",
      "3343\n",
      "3343\n",
      "C:\\Users\\keisc\\Documents\\GitHub\\moriyama_study/data/train.tsv\n",
      "C:\\Users\\keisc\\Documents\\GitHub\\moriyama_study/data/test.tsv\n",
      "C:\\Users\\keisc\\Documents\\GitHub\\moriyama_study/data/val.tsv\n"
     ]
    },
    {
     "name": "stderr",
     "output_type": "stream",
     "text": [
      "\n",
      "  0%|          | 0/15598 [00:00<?, ?it/s]\n",
      "\n",
      "  0%|          | 0/3343 [00:00<?, ?it/s]\u001b[A\n",
      "\n",
      "\n",
      "  0%|          | 0/3343 [00:00<?, ?it/s]\u001b[A\u001b[A\n",
      "100%|##########| 15598/15598 [00:00<00:00, 269014.67it/s]\n",
      "\n",
      "100%|##########| 3343/3343 [00:00<00:00, 122296.67it/s]\n",
      "\n",
      "100%|##########| 3343/3343 [00:00<00:00, 107544.61it/s]\n"
     ]
    }
   ],
   "source": [
    "!python make_data.py"
   ]
  },
  {
   "cell_type": "code",
   "execution_count": 19,
   "metadata": {},
   "outputs": [],
   "source": [
    "def summary_df(path):\n",
    "    df = pd.read_csv(path)\n",
    "    return df[\"predict\"].value_counts()[:10]"
   ]
  },
  {
   "cell_type": "code",
   "execution_count": 20,
   "metadata": {},
   "outputs": [
    {
     "data": {
      "text/plain": [
       "あー           6662\n",
       "あ            2888\n",
       "そうなんですか      1770\n",
       "はい           1041\n",
       "そうですよね       1036\n",
       "そう            931\n",
       "そうなんですね       637\n",
       "あーそうなんですね     573\n",
       "そうですか         506\n",
       "あそうなんですね      432\n",
       "Name: predict, dtype: int64"
      ]
     },
     "execution_count": 20,
     "metadata": {},
     "output_type": "execute_result"
    }
   ],
   "source": [
    "summary_df(path + \"result_Seq2seq.csv\")"
   ]
  },
  {
   "cell_type": "code",
   "execution_count": 7,
   "metadata": {},
   "outputs": [
    {
     "data": {
      "text/plain": [
       "あー           1673\n",
       "うーん          1566\n",
       "そうですね         923\n",
       "へえ            833\n",
       "あそうなんですか      748\n",
       "あはい           710\n",
       "あ             694\n",
       "あーそうなんですね     683\n",
       "そうですよね        597\n",
       "あそうなんですね      587\n",
       "Name: predict, dtype: int64"
      ]
     },
     "execution_count": 7,
     "metadata": {},
     "output_type": "execute_result"
    }
   ],
   "source": [
    "summary_df(path + \"result_transformer.csv\")"
   ]
  },
  {
   "cell_type": "code",
   "execution_count": 8,
   "metadata": {},
   "outputs": [
    {
     "data": {
      "text/plain": [
       "あー           12090\n",
       "あーそうなんですね     3436\n",
       "そうですか         1116\n",
       "ああ             735\n",
       "はあ             165\n",
       "そうですね          156\n",
       "あ               94\n",
       "あーそうですか         45\n",
       "そうですよね          45\n",
       "うーん             35\n",
       "Name: predict, dtype: int64"
      ]
     },
     "execution_count": 8,
     "metadata": {},
     "output_type": "execute_result"
    }
   ],
   "source": [
    "summary_df(path + \"result_bert_embedded_seq2seq.csv\")"
   ]
  },
  {
   "cell_type": "code",
   "execution_count": 9,
   "metadata": {},
   "outputs": [
    {
     "data": {
      "text/plain": [
       "あー           3180\n",
       "うーん          1532\n",
       "そうですね        1060\n",
       "あーそうなんですね     922\n",
       "あーそうなんですか     847\n",
       "へえ            836\n",
       "あ             826\n",
       "ああ            732\n",
       "あはい           412\n",
       "あそうなんですか      394\n",
       "Name: predict, dtype: int64"
      ]
     },
     "execution_count": 9,
     "metadata": {},
     "output_type": "execute_result"
    }
   ],
   "source": [
    "summary_df(path + \"result_bert_embedded_transformer.csv\")"
   ]
  },
  {
   "cell_type": "code",
   "execution_count": 5,
   "metadata": {},
   "outputs": [
    {
     "ename": "TypeError",
     "evalue": "read_table() got an unexpected keyword argument 'index'",
     "output_type": "error",
     "traceback": [
      "\u001b[1;31m---------------------------------------------------------------------------\u001b[0m",
      "\u001b[1;31mTypeError\u001b[0m                                 Traceback (most recent call last)",
      "\u001b[1;32m<ipython-input-5-272e103b9283>\u001b[0m in \u001b[0;36m<module>\u001b[1;34m\u001b[0m\n\u001b[1;32m----> 1\u001b[1;33m \u001b[0mdf\u001b[0m \u001b[1;33m=\u001b[0m \u001b[0mpd\u001b[0m\u001b[1;33m.\u001b[0m\u001b[0mread_table\u001b[0m\u001b[1;33m(\u001b[0m\u001b[1;34m\"./data/data/data.tsv\"\u001b[0m\u001b[1;33m,\u001b[0m \u001b[0mindex\u001b[0m \u001b[1;33m=\u001b[0m \u001b[1;32mFalse\u001b[0m\u001b[1;33m)\u001b[0m\u001b[1;33m\u001b[0m\u001b[1;33m\u001b[0m\u001b[0m\n\u001b[0m",
      "\u001b[1;31mTypeError\u001b[0m: read_table() got an unexpected keyword argument 'index'"
     ]
    }
   ],
   "source": [
    "df = pd.read_table(\"./data/data/data.tsv\", index = False)"
   ]
  },
  {
   "cell_type": "code",
   "execution_count": 6,
   "metadata": {},
   "outputs": [
    {
     "data": {
      "text/html": [
       "<div>\n",
       "<style scoped>\n",
       "    .dataframe tbody tr th:only-of-type {\n",
       "        vertical-align: middle;\n",
       "    }\n",
       "\n",
       "    .dataframe tbody tr th {\n",
       "        vertical-align: top;\n",
       "    }\n",
       "\n",
       "    .dataframe thead th {\n",
       "        text-align: right;\n",
       "    }\n",
       "</style>\n",
       "<table border=\"1\" class=\"dataframe\">\n",
       "  <thead>\n",
       "    <tr style=\"text-align: right;\">\n",
       "      <th></th>\n",
       "      <th>子供がですね3人あの</th>\n",
       "      <th>ああ</th>\n",
       "    </tr>\n",
       "  </thead>\n",
       "  <tbody>\n",
       "    <tr>\n",
       "      <th>0</th>\n",
       "      <td>子供がですね3人あの女の子ばっかしなんですけど</td>\n",
       "      <td>あーそうですか</td>\n",
       "    </tr>\n",
       "    <tr>\n",
       "      <th>1</th>\n",
       "      <td>子供がですね3人あの女の子ばっかしなんですけど</td>\n",
       "      <td>あ</td>\n",
       "    </tr>\n",
       "    <tr>\n",
       "      <th>2</th>\n",
       "      <td>子供がですね3人あの女の子ばっかしなんですけど産まれて</td>\n",
       "      <td>へー</td>\n",
       "    </tr>\n",
       "    <tr>\n",
       "      <th>3</th>\n",
       "      <td>子供がですね3人あの女の子ばっかしなんですけど産まれて</td>\n",
       "      <td>あそうですかええ</td>\n",
       "    </tr>\n",
       "    <tr>\n",
       "      <th>4</th>\n",
       "      <td>子供がですね3人あの女の子ばっかしなんですけど産まれて</td>\n",
       "      <td>そうなんですかはい</td>\n",
       "    </tr>\n",
       "    <tr>\n",
       "      <th>...</th>\n",
       "      <td>...</td>\n",
       "      <td>...</td>\n",
       "    </tr>\n",
       "    <tr>\n",
       "      <th>22278</th>\n",
       "      <td>ないと</td>\n",
       "      <td>そうですか</td>\n",
       "    </tr>\n",
       "    <tr>\n",
       "      <th>22279</th>\n",
       "      <td>いう事でしょうかはい</td>\n",
       "      <td>ないですかはいはい</td>\n",
       "    </tr>\n",
       "    <tr>\n",
       "      <th>22280</th>\n",
       "      <td>いう事でしょうかはい</td>\n",
       "      <td>あーそうなんですか</td>\n",
       "    </tr>\n",
       "    <tr>\n",
       "      <th>22281</th>\n",
       "      <td>いう事でしょうかはい</td>\n",
       "      <td>あっはい</td>\n",
       "    </tr>\n",
       "    <tr>\n",
       "      <th>22282</th>\n",
       "      <td>いう事でしょうかはい</td>\n",
       "      <td>そうかはい</td>\n",
       "    </tr>\n",
       "  </tbody>\n",
       "</table>\n",
       "<p>22283 rows × 2 columns</p>\n",
       "</div>"
      ],
      "text/plain": [
       "                        子供がですね3人あの         ああ\n",
       "0          子供がですね3人あの女の子ばっかしなんですけど    あーそうですか\n",
       "1          子供がですね3人あの女の子ばっかしなんですけど          あ\n",
       "2      子供がですね3人あの女の子ばっかしなんですけど産まれて         へー\n",
       "3      子供がですね3人あの女の子ばっかしなんですけど産まれて   あそうですかええ\n",
       "4      子供がですね3人あの女の子ばっかしなんですけど産まれて  そうなんですかはい\n",
       "...                            ...        ...\n",
       "22278                          ないと      そうですか\n",
       "22279                   いう事でしょうかはい  ないですかはいはい\n",
       "22280                   いう事でしょうかはい  あーそうなんですか\n",
       "22281                   いう事でしょうかはい       あっはい\n",
       "22282                   いう事でしょうかはい      そうかはい\n",
       "\n",
       "[22283 rows x 2 columns]"
      ]
     },
     "execution_count": 6,
     "metadata": {},
     "output_type": "execute_result"
    }
   ],
   "source": [
    "df"
   ]
  },
  {
   "cell_type": "code",
   "execution_count": null,
   "metadata": {},
   "outputs": [],
   "source": []
  }
 ],
 "metadata": {
  "kernelspec": {
   "display_name": "Python 3",
   "language": "python",
   "name": "python3"
  },
  "language_info": {
   "codemirror_mode": {
    "name": "ipython",
    "version": 3
   },
   "file_extension": ".py",
   "mimetype": "text/x-python",
   "name": "python",
   "nbconvert_exporter": "python",
   "pygments_lexer": "ipython3",
   "version": "3.8.5"
  }
 },
 "nbformat": 4,
 "nbformat_minor": 4
}
