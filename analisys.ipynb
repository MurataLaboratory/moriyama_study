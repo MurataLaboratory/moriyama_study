{
 "cells": [
  {
   "cell_type": "code",
   "execution_count": 4,
   "metadata": {},
   "outputs": [],
   "source": [
    "import pandas as pd\n",
    "path = \"./csv/\""
   ]
  },
  {
   "cell_type": "code",
   "execution_count": 23,
   "metadata": {},
   "outputs": [],
   "source": [
    "def summary_df(path):\n",
    "    df = pd.read_csv(path)\n",
    "    return df[\"predict\"].value_counts()[:10]"
   ]
  },
  {
   "cell_type": "code",
   "execution_count": 24,
   "metadata": {},
   "outputs": [
    {
     "data": {
      "text/plain": [
       "あー           6662\n",
       "あ            2888\n",
       "そうなんですか      1770\n",
       "はい           1041\n",
       "そうですよね       1036\n",
       "そう            931\n",
       "そうなんですね       637\n",
       "あーそうなんですね     573\n",
       "そうですか         506\n",
       "あそうなんですね      432\n",
       "Name: predict, dtype: int64"
      ]
     },
     "execution_count": 24,
     "metadata": {},
     "output_type": "execute_result"
    }
   ],
   "source": [
    "summary_df(path + \"result_Seq2seq.csv\")"
   ]
  },
  {
   "cell_type": "code",
   "execution_count": 25,
   "metadata": {},
   "outputs": [
    {
     "data": {
      "text/plain": [
       "あー           1673\n",
       "うーん          1566\n",
       "そうですね         923\n",
       "へえ            833\n",
       "あそうなんですか      748\n",
       "あはい           710\n",
       "あ             694\n",
       "あーそうなんですね     683\n",
       "そうですよね        597\n",
       "あそうなんですね      587\n",
       "Name: predict, dtype: int64"
      ]
     },
     "execution_count": 25,
     "metadata": {},
     "output_type": "execute_result"
    }
   ],
   "source": [
    "summary_df(path + \"result_transformer.csv\")"
   ]
  },
  {
   "cell_type": "code",
   "execution_count": 26,
   "metadata": {},
   "outputs": [
    {
     "data": {
      "text/plain": [
       "あー           12090\n",
       "あーそうなんですね     3436\n",
       "そうですか         1116\n",
       "ああ             735\n",
       "はあ             165\n",
       "そうですね          156\n",
       "あ               94\n",
       "そうですよね          45\n",
       "あーそうですか         45\n",
       "うーん             35\n",
       "Name: predict, dtype: int64"
      ]
     },
     "execution_count": 26,
     "metadata": {},
     "output_type": "execute_result"
    }
   ],
   "source": [
    "summary_df(path + \"result_bert_embedded_seq2seq.csv\")"
   ]
  },
  {
   "cell_type": "code",
   "execution_count": 27,
   "metadata": {},
   "outputs": [
    {
     "data": {
      "text/plain": [
       "あー           3180\n",
       "うーん          1532\n",
       "そうですね        1060\n",
       "あーそうなんですね     922\n",
       "あーそうなんですか     847\n",
       "へえ            836\n",
       "あ             826\n",
       "ああ            732\n",
       "あはい           412\n",
       "あそうなんですか      394\n",
       "Name: predict, dtype: int64"
      ]
     },
     "execution_count": 27,
     "metadata": {},
     "output_type": "execute_result"
    }
   ],
   "source": [
    "summary_df(path + \"result_bert_embedded_transformer.csv\")"
   ]
  },
  {
   "cell_type": "code",
   "execution_count": null,
   "metadata": {},
   "outputs": [],
   "source": []
  }
 ],
 "metadata": {
  "kernelspec": {
   "display_name": "Python 3",
   "language": "python",
   "name": "python3"
  },
  "language_info": {
   "codemirror_mode": {
    "name": "ipython",
    "version": 3
   },
   "file_extension": ".py",
   "mimetype": "text/x-python",
   "name": "python",
   "nbconvert_exporter": "python",
   "pygments_lexer": "ipython3",
   "version": "3.8.5"
  }
 },
 "nbformat": 4,
 "nbformat_minor": 4
}
