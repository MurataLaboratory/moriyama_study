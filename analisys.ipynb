{
 "cells": [
  {
   "cell_type": "code",
   "execution_count": 5,
   "metadata": {},
   "outputs": [],
   "source": [
    "import pandas as pd\n",
    "path = \"./csv/test/\""
   ]
  },
  {
   "cell_type": "code",
   "execution_count": 7,
   "metadata": {},
   "outputs": [],
   "source": [
    "def summary_df(path):\n",
    "    df = pd.read_csv(path)\n",
    "    return df[\"predict\"].value_counts()[:10]"
   ]
  },
  {
   "cell_type": "code",
   "execution_count": 18,
   "metadata": {},
   "outputs": [
    {
     "data": {
      "text/plain": [
       "あー           890\n",
       "あ            395\n",
       "そうなんですか      225\n",
       "そう           138\n",
       "はい           135\n",
       "そうですよね       131\n",
       "そうなんですね       94\n",
       "あーそうなんですね     80\n",
       "あそうなんですね      68\n",
       "そうですか         64\n",
       "Name: predict, dtype: int64"
      ]
     },
     "execution_count": 18,
     "metadata": {},
     "output_type": "execute_result"
    }
   ],
   "source": [
    "summary_df(path + \"result_Seq2seq.csv\")"
   ]
  },
  {
   "cell_type": "code",
   "execution_count": 19,
   "metadata": {},
   "outputs": [
    {
     "data": {
      "text/plain": [
       "あー           266\n",
       "うーん          239\n",
       "そうですね        145\n",
       "あはい          107\n",
       "へえ           104\n",
       "あそうなんですか      95\n",
       "あ             89\n",
       "あーそうなんですね     87\n",
       "そうですよね        82\n",
       "あそうなんですね      78\n",
       "Name: predict, dtype: int64"
      ]
     },
     "execution_count": 19,
     "metadata": {},
     "output_type": "execute_result"
    }
   ],
   "source": [
    "summary_df(path + \"result_transformer.csv\")"
   ]
  },
  {
   "cell_type": "code",
   "execution_count": 20,
   "metadata": {},
   "outputs": [
    {
     "data": {
      "text/plain": [
       "あー           1621\n",
       "ああ            118\n",
       "そうですよね         94\n",
       "そうですね          73\n",
       "あーそうなんですね      64\n",
       "はー             55\n",
       "えー             46\n",
       "あーそうですかー       44\n",
       "そうなんですね        43\n",
       "あーそうですねー       39\n",
       "Name: predict, dtype: int64"
      ]
     },
     "execution_count": 20,
     "metadata": {},
     "output_type": "execute_result"
    }
   ],
   "source": [
    "summary_df(path + \"result_bert_embedded_seq2seq.csv\")"
   ]
  },
  {
   "cell_type": "code",
   "execution_count": 21,
   "metadata": {},
   "outputs": [
    {
     "data": {
      "text/plain": [
       "あー           582\n",
       "うーん          208\n",
       "あーそうなんですね    184\n",
       "そうですね        129\n",
       "あ            110\n",
       "あーそうなんですか     95\n",
       "ああ            89\n",
       "あはい           76\n",
       "へえ            66\n",
       "そうですよね        46\n",
       "Name: predict, dtype: int64"
      ]
     },
     "execution_count": 21,
     "metadata": {},
     "output_type": "execute_result"
    }
   ],
   "source": [
    "summary_df(path + \"result_bert_embedded_transformer.csv\")"
   ]
  },
  {
   "cell_type": "code",
   "execution_count": 40,
   "metadata": {},
   "outputs": [
    {
     "data": {
      "text/plain": [
       "あー       976\n",
       "うーん      877\n",
       "へえ       710\n",
       "あ        593\n",
       "そうですね    502\n",
       "ああ       466\n",
       "あはい      396\n",
       "へー       282\n",
       "はあ       252\n",
       "あっ       245\n",
       "Name: output, dtype: int64"
      ]
     },
     "execution_count": 40,
     "metadata": {},
     "output_type": "execute_result"
    }
   ],
   "source": [
    "pd.read_csv('./data/data.csv')['output'].value_counts()[:10]"
   ]
  },
  {
   "cell_type": "code",
   "execution_count": 22,
   "metadata": {},
   "outputs": [],
   "source": [
    "path = \"./data/data.tsv\""
   ]
  },
  {
   "cell_type": "code",
   "execution_count": 34,
   "metadata": {},
   "outputs": [],
   "source": [
    "input, output = [], []\n",
    "with open(path, mode = 'r', encoding = \"utf-8\") as f:\n",
    "    for f_list in f.readlines():\n",
    "        # print(f_list)\n",
    "        tmp = f_list.split('\\t')\n",
    "        input.append(tmp[0])\n",
    "        output.append(tmp[1].replace(\"\\n\", \"\"))"
   ]
  },
  {
   "cell_type": "code",
   "execution_count": 35,
   "metadata": {},
   "outputs": [],
   "source": [
    "df = pd.DataFrame({'input':input, 'output':output})"
   ]
  },
  {
   "cell_type": "code",
   "execution_count": 36,
   "metadata": {},
   "outputs": [
    {
     "data": {
      "text/html": [
       "<div>\n",
       "<style scoped>\n",
       "    .dataframe tbody tr th:only-of-type {\n",
       "        vertical-align: middle;\n",
       "    }\n",
       "\n",
       "    .dataframe tbody tr th {\n",
       "        vertical-align: top;\n",
       "    }\n",
       "\n",
       "    .dataframe thead th {\n",
       "        text-align: right;\n",
       "    }\n",
       "</style>\n",
       "<table border=\"1\" class=\"dataframe\">\n",
       "  <thead>\n",
       "    <tr style=\"text-align: right;\">\n",
       "      <th></th>\n",
       "      <th>input</th>\n",
       "      <th>output</th>\n",
       "    </tr>\n",
       "  </thead>\n",
       "  <tbody>\n",
       "    <tr>\n",
       "      <th>0</th>\n",
       "      <td>子供がですね3人あの</td>\n",
       "      <td>ああ</td>\n",
       "    </tr>\n",
       "    <tr>\n",
       "      <th>1</th>\n",
       "      <td>子供がですね3人あの女の子ばっかしなんですけど</td>\n",
       "      <td>あーそうですか</td>\n",
       "    </tr>\n",
       "    <tr>\n",
       "      <th>2</th>\n",
       "      <td>子供がですね3人あの女の子ばっかしなんですけど</td>\n",
       "      <td>あ</td>\n",
       "    </tr>\n",
       "    <tr>\n",
       "      <th>3</th>\n",
       "      <td>子供がですね3人あの女の子ばっかしなんですけど産まれて</td>\n",
       "      <td>へー</td>\n",
       "    </tr>\n",
       "    <tr>\n",
       "      <th>4</th>\n",
       "      <td>子供がですね3人あの女の子ばっかしなんですけど産まれて</td>\n",
       "      <td>あそうですかええ</td>\n",
       "    </tr>\n",
       "    <tr>\n",
       "      <th>...</th>\n",
       "      <td>...</td>\n",
       "      <td>...</td>\n",
       "    </tr>\n",
       "    <tr>\n",
       "      <th>22279</th>\n",
       "      <td>ないと</td>\n",
       "      <td>そうですか</td>\n",
       "    </tr>\n",
       "    <tr>\n",
       "      <th>22280</th>\n",
       "      <td>いう事でしょうかはい</td>\n",
       "      <td>ないですかはいはい</td>\n",
       "    </tr>\n",
       "    <tr>\n",
       "      <th>22281</th>\n",
       "      <td>いう事でしょうかはい</td>\n",
       "      <td>あーそうなんですか</td>\n",
       "    </tr>\n",
       "    <tr>\n",
       "      <th>22282</th>\n",
       "      <td>いう事でしょうかはい</td>\n",
       "      <td>あっはい</td>\n",
       "    </tr>\n",
       "    <tr>\n",
       "      <th>22283</th>\n",
       "      <td>いう事でしょうかはい</td>\n",
       "      <td>そうかはい</td>\n",
       "    </tr>\n",
       "  </tbody>\n",
       "</table>\n",
       "<p>22284 rows × 2 columns</p>\n",
       "</div>"
      ],
      "text/plain": [
       "                             input     output\n",
       "0                       子供がですね3人あの         ああ\n",
       "1          子供がですね3人あの女の子ばっかしなんですけど    あーそうですか\n",
       "2          子供がですね3人あの女の子ばっかしなんですけど          あ\n",
       "3      子供がですね3人あの女の子ばっかしなんですけど産まれて         へー\n",
       "4      子供がですね3人あの女の子ばっかしなんですけど産まれて   あそうですかええ\n",
       "...                            ...        ...\n",
       "22279                          ないと      そうですか\n",
       "22280                   いう事でしょうかはい  ないですかはいはい\n",
       "22281                   いう事でしょうかはい  あーそうなんですか\n",
       "22282                   いう事でしょうかはい       あっはい\n",
       "22283                   いう事でしょうかはい      そうかはい\n",
       "\n",
       "[22284 rows x 2 columns]"
      ]
     },
     "execution_count": 36,
     "metadata": {},
     "output_type": "execute_result"
    }
   ],
   "source": [
    "df"
   ]
  },
  {
   "cell_type": "code",
   "execution_count": 37,
   "metadata": {},
   "outputs": [],
   "source": [
    "df.to_csv(path.replace('tsv', 'csv'), index = False)"
   ]
  },
  {
   "cell_type": "code",
   "execution_count": null,
   "metadata": {},
   "outputs": [],
   "source": []
  }
 ],
 "metadata": {
  "kernelspec": {
   "display_name": "Python 3",
   "language": "python",
   "name": "python3"
  },
  "language_info": {
   "codemirror_mode": {
    "name": "ipython",
    "version": 3
   },
   "file_extension": ".py",
   "mimetype": "text/x-python",
   "name": "python",
   "nbconvert_exporter": "python",
   "pygments_lexer": "ipython3",
   "version": "3.8.5"
  }
 },
 "nbformat": 4,
 "nbformat_minor": 4
}
