{
 "cells": [
  {
   "cell_type": "code",
   "execution_count": 31,
   "metadata": {},
   "outputs": [],
   "source": [
    "import pandas as pd\n",
    "path = \"./csv/test/\""
   ]
  },
  {
   "cell_type": "code",
   "execution_count": 37,
   "metadata": {},
   "outputs": [],
   "source": [
    "def summary_df(path):\n",
    "    df = pd.read_csv(path)\n",
    "    return df[\"predict\"].value_counts(normalize = True)[:10]*100"
   ]
  },
  {
   "cell_type": "code",
   "execution_count": 38,
   "metadata": {},
   "outputs": [
    {
     "data": {
      "text/plain": [
       "あー           35.261490\n",
       "あ            15.649762\n",
       "そうなんですか       8.914422\n",
       "そう            5.467512\n",
       "はい            5.348653\n",
       "そうですよね        5.190174\n",
       "そうなんですね       3.724247\n",
       "あーそうなんですね     3.169572\n",
       "あそうなんですね      2.694136\n",
       "そうですか         2.535658\n",
       "Name: predict, dtype: float64"
      ]
     },
     "execution_count": 38,
     "metadata": {},
     "output_type": "execute_result"
    }
   ],
   "source": [
    "summary_df(path + \"result_Seq2seq.csv\")"
   ]
  },
  {
   "cell_type": "code",
   "execution_count": 39,
   "metadata": {},
   "outputs": [
    {
     "data": {
      "text/plain": [
       "あー           10.488959\n",
       "うーん           9.424290\n",
       "そうですね         5.717666\n",
       "あはい           4.219243\n",
       "へえ            4.100946\n",
       "あそうなんですか      3.746057\n",
       "あ             3.509464\n",
       "あーそうなんですね     3.430599\n",
       "そうですよね        3.233438\n",
       "あそうなんですね      3.075710\n",
       "Name: predict, dtype: float64"
      ]
     },
     "execution_count": 39,
     "metadata": {},
     "output_type": "execute_result"
    }
   ],
   "source": [
    "summary_df(path + \"result_transformer.csv\")"
   ]
  },
  {
   "cell_type": "code",
   "execution_count": 40,
   "metadata": {},
   "outputs": [
    {
     "data": {
      "text/plain": [
       "あー           63.919558\n",
       "ああ            4.652997\n",
       "そうですよね        3.706625\n",
       "そうですね         2.878549\n",
       "あーそうなんですね     2.523659\n",
       "はー            2.168770\n",
       "えー            1.813880\n",
       "あーそうですかー      1.735016\n",
       "そうなんですね       1.695584\n",
       "あーそうですねー      1.537855\n",
       "Name: predict, dtype: float64"
      ]
     },
     "execution_count": 40,
     "metadata": {},
     "output_type": "execute_result"
    }
   ],
   "source": [
    "summary_df(path + \"result_bert_embedded_seq2seq.csv\")"
   ]
  },
  {
   "cell_type": "code",
   "execution_count": 41,
   "metadata": {},
   "outputs": [
    {
     "data": {
      "text/plain": [
       "あー           22.949527\n",
       "うーん           8.201893\n",
       "あーそうなんですね     7.255521\n",
       "そうですね         5.086751\n",
       "あ             4.337539\n",
       "あーそうなんですか     3.746057\n",
       "ああ            3.509464\n",
       "あはい           2.996845\n",
       "へえ            2.602524\n",
       "そうですよね        1.813880\n",
       "Name: predict, dtype: float64"
      ]
     },
     "execution_count": 41,
     "metadata": {},
     "output_type": "execute_result"
    }
   ],
   "source": [
    "summary_df(path + \"result_bert_embedded_transformer.csv\")"
   ]
  },
  {
   "cell_type": "code",
   "execution_count": 42,
   "metadata": {},
   "outputs": [
    {
     "data": {
      "text/plain": [
       "あー       4.379824\n",
       "うーん      3.935559\n",
       "へえ       3.186143\n",
       "あ        2.661102\n",
       "そうですね    2.252737\n",
       "ああ       2.091187\n",
       "あはい      1.777060\n",
       "へー       1.265482\n",
       "はあ       1.130856\n",
       "あっ       1.099444\n",
       "Name: output, dtype: float64"
      ]
     },
     "execution_count": 42,
     "metadata": {},
     "output_type": "execute_result"
    }
   ],
   "source": [
    "pd.read_csv('./data/data.csv')['output'].value_counts(normalize = True)[:10] * 100"
   ]
  },
  {
   "cell_type": "code",
   "execution_count": 43,
   "metadata": {},
   "outputs": [],
   "source": [
    "path = \"./data/data.tsv\""
   ]
  },
  {
   "cell_type": "code",
   "execution_count": 44,
   "metadata": {},
   "outputs": [],
   "source": [
    "input, output = [], []\n",
    "with open(path, mode = 'r', encoding = \"utf-8\") as f:\n",
    "    for f_list in f.readlines():\n",
    "        # print(f_list)\n",
    "        tmp = f_list.split('\\t')\n",
    "        input.append(tmp[0])\n",
    "        output.append(tmp[1].replace(\"\\n\", \"\"))"
   ]
  },
  {
   "cell_type": "code",
   "execution_count": 45,
   "metadata": {},
   "outputs": [],
   "source": [
    "df = pd.DataFrame({'input':input, 'output':output})"
   ]
  },
  {
   "cell_type": "code",
   "execution_count": 46,
   "metadata": {},
   "outputs": [
    {
     "data": {
      "text/html": [
       "<div>\n",
       "<style scoped>\n",
       "    .dataframe tbody tr th:only-of-type {\n",
       "        vertical-align: middle;\n",
       "    }\n",
       "\n",
       "    .dataframe tbody tr th {\n",
       "        vertical-align: top;\n",
       "    }\n",
       "\n",
       "    .dataframe thead th {\n",
       "        text-align: right;\n",
       "    }\n",
       "</style>\n",
       "<table border=\"1\" class=\"dataframe\">\n",
       "  <thead>\n",
       "    <tr style=\"text-align: right;\">\n",
       "      <th></th>\n",
       "      <th>input</th>\n",
       "      <th>output</th>\n",
       "    </tr>\n",
       "  </thead>\n",
       "  <tbody>\n",
       "    <tr>\n",
       "      <th>0</th>\n",
       "      <td>子供がですね3人あの</td>\n",
       "      <td>ああ</td>\n",
       "    </tr>\n",
       "    <tr>\n",
       "      <th>1</th>\n",
       "      <td>子供がですね3人あの女の子ばっかしなんですけど</td>\n",
       "      <td>あーそうですか</td>\n",
       "    </tr>\n",
       "    <tr>\n",
       "      <th>2</th>\n",
       "      <td>子供がですね3人あの女の子ばっかしなんですけど</td>\n",
       "      <td>あ</td>\n",
       "    </tr>\n",
       "    <tr>\n",
       "      <th>3</th>\n",
       "      <td>子供がですね3人あの女の子ばっかしなんですけど産まれて</td>\n",
       "      <td>へー</td>\n",
       "    </tr>\n",
       "    <tr>\n",
       "      <th>4</th>\n",
       "      <td>子供がですね3人あの女の子ばっかしなんですけど産まれて</td>\n",
       "      <td>あそうですかええ</td>\n",
       "    </tr>\n",
       "    <tr>\n",
       "      <th>...</th>\n",
       "      <td>...</td>\n",
       "      <td>...</td>\n",
       "    </tr>\n",
       "    <tr>\n",
       "      <th>22279</th>\n",
       "      <td>ないと</td>\n",
       "      <td>そうですか</td>\n",
       "    </tr>\n",
       "    <tr>\n",
       "      <th>22280</th>\n",
       "      <td>いう事でしょうかはい</td>\n",
       "      <td>ないですかはいはい</td>\n",
       "    </tr>\n",
       "    <tr>\n",
       "      <th>22281</th>\n",
       "      <td>いう事でしょうかはい</td>\n",
       "      <td>あーそうなんですか</td>\n",
       "    </tr>\n",
       "    <tr>\n",
       "      <th>22282</th>\n",
       "      <td>いう事でしょうかはい</td>\n",
       "      <td>あっはい</td>\n",
       "    </tr>\n",
       "    <tr>\n",
       "      <th>22283</th>\n",
       "      <td>いう事でしょうかはい</td>\n",
       "      <td>そうかはい</td>\n",
       "    </tr>\n",
       "  </tbody>\n",
       "</table>\n",
       "<p>22284 rows × 2 columns</p>\n",
       "</div>"
      ],
      "text/plain": [
       "                             input     output\n",
       "0                       子供がですね3人あの         ああ\n",
       "1          子供がですね3人あの女の子ばっかしなんですけど    あーそうですか\n",
       "2          子供がですね3人あの女の子ばっかしなんですけど          あ\n",
       "3      子供がですね3人あの女の子ばっかしなんですけど産まれて         へー\n",
       "4      子供がですね3人あの女の子ばっかしなんですけど産まれて   あそうですかええ\n",
       "...                            ...        ...\n",
       "22279                          ないと      そうですか\n",
       "22280                   いう事でしょうかはい  ないですかはいはい\n",
       "22281                   いう事でしょうかはい  あーそうなんですか\n",
       "22282                   いう事でしょうかはい       あっはい\n",
       "22283                   いう事でしょうかはい      そうかはい\n",
       "\n",
       "[22284 rows x 2 columns]"
      ]
     },
     "execution_count": 46,
     "metadata": {},
     "output_type": "execute_result"
    }
   ],
   "source": [
    "df"
   ]
  },
  {
   "cell_type": "code",
   "execution_count": 47,
   "metadata": {},
   "outputs": [],
   "source": [
    "df.to_csv(path.replace('tsv', 'csv'), index = False)"
   ]
  },
  {
   "cell_type": "code",
   "execution_count": null,
   "metadata": {},
   "outputs": [],
   "source": []
  }
 ],
 "metadata": {
  "kernelspec": {
   "display_name": "Python 3",
   "language": "python",
   "name": "python3"
  },
  "language_info": {
   "codemirror_mode": {
    "name": "ipython",
    "version": 3
   },
   "file_extension": ".py",
   "mimetype": "text/x-python",
   "name": "python",
   "nbconvert_exporter": "python",
   "pygments_lexer": "ipython3",
   "version": "3.8.5"
  }
 },
 "nbformat": 4,
 "nbformat_minor": 4
}
