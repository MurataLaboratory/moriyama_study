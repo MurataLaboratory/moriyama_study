{
 "cells": [
  {
   "cell_type": "code",
   "execution_count": 6,
   "metadata": {},
   "outputs": [],
   "source": [
    "import pandas as pd\n",
    "import nltk\n",
    "from janome.tokenizer import Tokenizer\n",
    "j_t = Tokenizer()\n",
    "\n",
    "def tokenizer(text):\n",
    "    return [tok for tok in j_t.tokenize(text, wakati = True)]"
   ]
  },
  {
   "cell_type": "code",
   "execution_count": 7,
   "metadata": {},
   "outputs": [],
   "source": [
    "data = pd.read_csv(\"result_seq2seq.csv\")"
   ]
  },
  {
   "cell_type": "markdown",
   "metadata": {},
   "source": [
    "data"
   ]
  },
  {
   "cell_type": "code",
   "execution_count": 8,
   "metadata": {},
   "outputs": [],
   "source": [
    "ans = data[\"answer\"]\n",
    "pred = data[\"predict\"]"
   ]
  },
  {
   "cell_type": "code",
   "execution_count": 11,
   "metadata": {},
   "outputs": [],
   "source": [
    "def evaluate(path):\n",
    "    data = pd.read_csv(path)\n",
    "    ans = data[\"answer\"]\n",
    "    pred = data[\"predict\"]\n",
    "    cnt = 0\n",
    "    # 一致率\n",
    "    for i in range(len(ans)):\n",
    "        if ans[i] == pred[i]:\n",
    "            cnt+=1\n",
    "    same_percentage = (cnt/len(ans))*100\n",
    "    # 種類数\n",
    "    col = []\n",
    "    for i in range(len(pred)):\n",
    "        if pred[i] not in col:\n",
    "            col.append(pred[i])\n",
    "    ans_kind = len(col)\n",
    "    # bleu\n",
    "    df_ans = data.assign(bleu = 0)\n",
    "    df_ans = df_ans.groupby(\"input\").agg({\n",
    "    'answer':list,\n",
    "    \"predict\": list,\n",
    "    \"bleu\" : list\n",
    "    })\n",
    "    df_ans = df_ans.reset_index()\n",
    "    col, ans, pred = [], [], []\n",
    "    for k in range(len(df_ans)):\n",
    "        for j in range(len(df_ans[\"predict\"][k])):\n",
    "\n",
    "            for i in range(len(df_ans[\"answer\"][k])):\n",
    "                ans_str = df_ans[\"answer\"][k][i]\n",
    "                ans.append(tokenizer(ans_str))\n",
    "\n",
    "            #print(k)\n",
    "            pred = df_ans[\"predict\"][k][j]\n",
    "            #print(pred)\n",
    "            pred = tokenizer(pred)\n",
    "            col.append(nltk.translate.bleu_score.sentence_bleu(ans, pred))\n",
    "            ave = sum(col)/len(col)\n",
    "            #print(ave)\n",
    "            df_ans[\"bleu\"][k][j] = ave\n",
    "            col, ans = [], []\n",
    "    input_str, answer, predict, bleu = [], [], [], []\n",
    "    for i in range(len(df_ans)):\n",
    "        for j in range(len(df_ans[\"answer\"][i])):\n",
    "            input_str.append(df_ans[\"input\"][i])\n",
    "            answer.append(df_ans[\"answer\"][i][j])\n",
    "            predict.append(df_ans[\"predict\"][i][j])\n",
    "            bleu.append(df_ans[\"bleu\"][i][j])\n",
    "            \n",
    "    df = pd.DataFrame({\"input\":input_str,\"answer\":answer,\"predict\":predict,\"bleu\":bleu})\n",
    "    path = path.replace(\"result\", \"score\")\n",
    "    df.to_csv(path)\n",
    "    blue = df[\"bleu\"]\n",
    "    l = blue.values.tolist()\n",
    "    ave_blue = sum(l)/len(l)\n",
    "    return same_percentage,ans_kind, ave_blue  "
   ]
  },
  {
   "cell_type": "code",
   "execution_count": null,
   "metadata": {},
   "outputs": [],
   "source": [
    "evaluate(\"result_seq2seq.csv\")"
   ]
  }
 ],
 "metadata": {
  "kernelspec": {
   "display_name": "Python 3",
   "language": "python",
   "name": "python3"
  },
  "language_info": {
   "codemirror_mode": {
    "name": "ipython",
    "version": 3
   },
   "file_extension": ".py",
   "mimetype": "text/x-python",
   "name": "python",
   "nbconvert_exporter": "python",
   "pygments_lexer": "ipython3",
   "version": "3.7.1"
  }
 },
 "nbformat": 4,
 "nbformat_minor": 4
}
