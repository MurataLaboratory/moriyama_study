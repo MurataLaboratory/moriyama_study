{
 "cells": [
  {
   "cell_type": "code",
   "execution_count": 6,
   "metadata": {},
   "outputs": [],
   "source": [
    "import pandas as pd\n",
    "import nltk\n",
    "from janome.tokenizer import Tokenizer\n",
    "j_t = Tokenizer()\n",
    "\n",
    "def tokenizer(text):\n",
    "    return [tok for tok in j_t.tokenize(text, wakati = True)]"
   ]
  },
  {
   "cell_type": "code",
   "execution_count": 7,
   "metadata": {},
   "outputs": [],
   "source": [
    "data = pd.read_csv(\"result_seq2seq.csv\")"
   ]
  },
  {
   "cell_type": "markdown",
   "metadata": {},
   "source": [
    "data"
   ]
  },
  {
   "cell_type": "code",
   "execution_count": 8,
   "metadata": {},
   "outputs": [],
   "source": [
    "ans = data[\"answer\"]\n",
    "pred = data[\"predict\"]"
   ]
  },
  {
   "cell_type": "code",
   "execution_count": 9,
   "metadata": {},
   "outputs": [],
   "source": [
    "def evaluate(path):\n",
    "    data = pd.read_csv(path)\n",
    "    ans = data[\"answer\"]\n",
    "    pred = data[\"predict\"]\n",
    "    cnt = 0\n",
    "    # 一致率\n",
    "    for i in range(len(ans)):\n",
    "        if ans[i] == pred[i]:\n",
    "            cnt+=1\n",
    "    same_percentage = (cnt/len(ans))*100\n",
    "    # 種類数\n",
    "    col = []\n",
    "    for i in range(len(pred)):\n",
    "        if pred[i] not in col:\n",
    "            col.append(pred[i])\n",
    "    ans = len(col)\n",
    "    # bleu\n",
    "    df_ans = data.assign(bleu = 0)\n",
    "    df_ans = df_ans.groupby(\"input\").agg({\n",
    "    'answer':list,\n",
    "    \"predict\": list,\n",
    "    \"bleu\" : list\n",
    "    })\n",
    "    df_ans = df_ans.reset_index()\n",
    "    col, ans, pred = [], [], []\n",
    "    for k in range(len(df_ans)):\n",
    "        for j in range(len(df_ans[\"predict\"][k])):\n",
    "\n",
    "            for i in range(len(df_ans[\"answer\"][k])):\n",
    "                ans_str = df_ans[\"answer\"][k][i]\n",
    "                ans.append(tokenizer(ans_str))\n",
    "\n",
    "            #print(k)\n",
    "            pred = df_ans[\"predict\"][k][j]\n",
    "            #print(pred)\n",
    "            pred = tokenizer(pred)\n",
    "            col.append(nltk.translate.bleu_score.sentence_bleu(ans, pred))\n",
    "            ave = sum(col)/len(col)\n",
    "            #print(ave)\n",
    "            df_ans[\"bleu\"][k][j] = ave\n",
    "            col, ans = [], []\n",
    "    input_str, answer, predict, bleu = [], [], [], []\n",
    "    for i in range(len(df_ans)):\n",
    "        for j in range(len(df_ans[\"answer\"][i])):\n",
    "            input_str.append(df_ans[\"input\"][i])\n",
    "            answer.append(df_ans[\"answer\"][i][j])\n",
    "            predict.append(df_ans[\"predict\"][i][j])\n",
    "            bleu.append(df_ans[\"bleu\"][i][j])\n",
    "            \n",
    "    df = pd.DataFrame({\"input\":input_str,\"answer\":answer,\"predict\":predict,\"bleu\":bleu})\n",
    "    path = path.replace(\"result\", \"score\")\n",
    "    df.to_csv(path)\n",
    "    blue = df[\"bleu\"]\n",
    "    l = blue.values.tolist()\n",
    "    ave_blue = sum(l)/len(l)\n",
    "    return same_percentage,ans, ave_blue  "
   ]
  },
  {
   "cell_type": "code",
   "execution_count": null,
   "metadata": {},
   "outputs": [
    {
     "name": "stderr",
     "output_type": "stream",
     "text": [
      "C:\\Users\\KEI\\anaconda3\\envs\\school\\lib\\site-packages\\nltk\\translate\\bleu_score.py:516: UserWarning: \n",
      "The hypothesis contains 0 counts of 2-gram overlaps.\n",
      "Therefore the BLEU score evaluates to 0, independently of\n",
      "how many N-gram overlaps of lower order it contains.\n",
      "Consider using lower n-gram order or use SmoothingFunction()\n",
      "  warnings.warn(_msg)\n",
      "C:\\Users\\KEI\\anaconda3\\envs\\school\\lib\\site-packages\\nltk\\translate\\bleu_score.py:516: UserWarning: \n",
      "The hypothesis contains 0 counts of 3-gram overlaps.\n",
      "Therefore the BLEU score evaluates to 0, independently of\n",
      "how many N-gram overlaps of lower order it contains.\n",
      "Consider using lower n-gram order or use SmoothingFunction()\n",
      "  warnings.warn(_msg)\n",
      "C:\\Users\\KEI\\anaconda3\\envs\\school\\lib\\site-packages\\nltk\\translate\\bleu_score.py:516: UserWarning: \n",
      "The hypothesis contains 0 counts of 4-gram overlaps.\n",
      "Therefore the BLEU score evaluates to 0, independently of\n",
      "how many N-gram overlaps of lower order it contains.\n",
      "Consider using lower n-gram order or use SmoothingFunction()\n",
      "  warnings.warn(_msg)\n"
     ]
    }
   ],
   "source": [
    "evaluate(\"result_seq2seq.csv\")"
   ]
  },
  {
   "cell_type": "markdown",
   "metadata": {},
   "source": [
    "# 完全一致率の計算"
   ]
  },
  {
   "cell_type": "code",
   "execution_count": 217,
   "metadata": {},
   "outputs": [],
   "source": [
    "cnt = 0\n",
    "for i in range(len(ans)):\n",
    "    if ans[i] == pred[i]:\n",
    "        #print(\"ans:\"+ans[i]+\" pred:\"+pred[i])\n",
    "        cnt+=1"
   ]
  },
  {
   "cell_type": "code",
   "execution_count": 218,
   "metadata": {},
   "outputs": [
    {
     "data": {
      "text/plain": [
       "272"
      ]
     },
     "execution_count": 218,
     "metadata": {},
     "output_type": "execute_result"
    }
   ],
   "source": [
    "cnt"
   ]
  },
  {
   "cell_type": "code",
   "execution_count": 219,
   "metadata": {},
   "outputs": [],
   "source": [
    "same_percentage = (cnt/len(ans))*100"
   ]
  },
  {
   "cell_type": "code",
   "execution_count": 220,
   "metadata": {},
   "outputs": [
    {
     "data": {
      "text/plain": [
       "1.2866603595080417"
      ]
     },
     "execution_count": 220,
     "metadata": {},
     "output_type": "execute_result"
    }
   ],
   "source": [
    "same_percentage"
   ]
  },
  {
   "cell_type": "markdown",
   "metadata": {},
   "source": [
    "# 種類数の計算"
   ]
  },
  {
   "cell_type": "code",
   "execution_count": 221,
   "metadata": {},
   "outputs": [],
   "source": [
    "col = []\n",
    "for i in range(len(pred)):\n",
    "    if pred[i] not in col:\n",
    "        col.append(pred[i])"
   ]
  },
  {
   "cell_type": "code",
   "execution_count": 222,
   "metadata": {},
   "outputs": [
    {
     "data": {
      "text/plain": [
       "75"
      ]
     },
     "execution_count": 222,
     "metadata": {},
     "output_type": "execute_result"
    }
   ],
   "source": [
    "len(col)"
   ]
  },
  {
   "cell_type": "markdown",
   "metadata": {},
   "source": [
    "# BLUEの計算\n",
    "\n",
    "入力に対する答えが複数あるのですべてに対してスコアを計算する\n"
   ]
  },
  {
   "cell_type": "code",
   "execution_count": 223,
   "metadata": {},
   "outputs": [],
   "source": [
    "import nltk"
   ]
  },
  {
   "cell_type": "code",
   "execution_count": 224,
   "metadata": {},
   "outputs": [],
   "source": [
    "df_ans = data.assign(bleu = 0)"
   ]
  },
  {
   "cell_type": "code",
   "execution_count": 225,
   "metadata": {},
   "outputs": [
    {
     "data": {
      "text/html": [
       "<div>\n",
       "<style scoped>\n",
       "    .dataframe tbody tr th:only-of-type {\n",
       "        vertical-align: middle;\n",
       "    }\n",
       "\n",
       "    .dataframe tbody tr th {\n",
       "        vertical-align: top;\n",
       "    }\n",
       "\n",
       "    .dataframe thead th {\n",
       "        text-align: right;\n",
       "    }\n",
       "</style>\n",
       "<table border=\"1\" class=\"dataframe\">\n",
       "  <thead>\n",
       "    <tr style=\"text-align: right;\">\n",
       "      <th></th>\n",
       "      <th>Unnamed: 0</th>\n",
       "      <th>input</th>\n",
       "      <th>answer</th>\n",
       "      <th>predict</th>\n",
       "      <th>bleu</th>\n",
       "    </tr>\n",
       "  </thead>\n",
       "  <tbody>\n",
       "    <tr>\n",
       "      <th>0</th>\n",
       "      <td>457</td>\n",
       "      <td>11時半頃</td>\n",
       "      <td>いらっしゃったうーん</td>\n",
       "      <td>あー</td>\n",
       "      <td>0</td>\n",
       "    </tr>\n",
       "    <tr>\n",
       "      <th>1</th>\n",
       "      <td>7866</td>\n",
       "      <td>11時半頃</td>\n",
       "      <td>十一時半に</td>\n",
       "      <td>あー</td>\n",
       "      <td>0</td>\n",
       "    </tr>\n",
       "    <tr>\n",
       "      <th>2</th>\n",
       "      <td>2131</td>\n",
       "      <td>15分ぐらいまで</td>\n",
       "      <td>あっ</td>\n",
       "      <td>あですです</td>\n",
       "      <td>0</td>\n",
       "    </tr>\n",
       "    <tr>\n",
       "      <th>3</th>\n",
       "      <td>6635</td>\n",
       "      <td>15分ぐらいまで</td>\n",
       "      <td>十五分</td>\n",
       "      <td>あ</td>\n",
       "      <td>0</td>\n",
       "    </tr>\n",
       "    <tr>\n",
       "      <th>4</th>\n",
       "      <td>4986</td>\n",
       "      <td>15分ぐらいまで駅に</td>\n",
       "      <td>あはい</td>\n",
       "      <td>そう</td>\n",
       "      <td>0</td>\n",
       "    </tr>\n",
       "    <tr>\n",
       "      <th>...</th>\n",
       "      <td>...</td>\n",
       "      <td>...</td>\n",
       "      <td>...</td>\n",
       "      <td>...</td>\n",
       "      <td>...</td>\n",
       "    </tr>\n",
       "    <tr>\n",
       "      <th>21135</th>\n",
       "      <td>983</td>\n",
       "      <td>麻雀をするとか</td>\n",
       "      <td>あーあはいはい</td>\n",
       "      <td>あーなんですか</td>\n",
       "      <td>0</td>\n",
       "    </tr>\n",
       "    <tr>\n",
       "      <th>21136</th>\n",
       "      <td>9082</td>\n",
       "      <td>麻雀をするとか</td>\n",
       "      <td>あ麻雀はい</td>\n",
       "      <td>あんですか</td>\n",
       "      <td>0</td>\n",
       "    </tr>\n",
       "    <tr>\n",
       "      <th>21137</th>\n",
       "      <td>18503</td>\n",
       "      <td>麻雀をするとか</td>\n",
       "      <td>あはい</td>\n",
       "      <td>あ</td>\n",
       "      <td>0</td>\n",
       "    </tr>\n",
       "    <tr>\n",
       "      <th>21138</th>\n",
       "      <td>6092</td>\n",
       "      <td>麻雀をするとか</td>\n",
       "      <td>あー麻雀も</td>\n",
       "      <td>あはい</td>\n",
       "      <td>0</td>\n",
       "    </tr>\n",
       "    <tr>\n",
       "      <th>21139</th>\n",
       "      <td>514</td>\n",
       "      <td>麻雀をするとか</td>\n",
       "      <td>麻雀もおやりになるんですね</td>\n",
       "      <td>あー</td>\n",
       "      <td>0</td>\n",
       "    </tr>\n",
       "  </tbody>\n",
       "</table>\n",
       "<p>21140 rows × 5 columns</p>\n",
       "</div>"
      ],
      "text/plain": [
       "       Unnamed: 0       input         answer  predict  bleu\n",
       "0             457       11時半頃     いらっしゃったうーん       あー     0\n",
       "1            7866       11時半頃          十一時半に       あー     0\n",
       "2            2131    15分ぐらいまで             あっ    あですです     0\n",
       "3            6635    15分ぐらいまで            十五分        あ     0\n",
       "4            4986  15分ぐらいまで駅に            あはい       そう     0\n",
       "...           ...         ...            ...      ...   ...\n",
       "21135         983     麻雀をするとか        あーあはいはい  あーなんですか     0\n",
       "21136        9082     麻雀をするとか          あ麻雀はい    あんですか     0\n",
       "21137       18503     麻雀をするとか            あはい        あ     0\n",
       "21138        6092     麻雀をするとか          あー麻雀も      あはい     0\n",
       "21139         514     麻雀をするとか  麻雀もおやりになるんですね       あー     0\n",
       "\n",
       "[21140 rows x 5 columns]"
      ]
     },
     "execution_count": 225,
     "metadata": {},
     "output_type": "execute_result"
    }
   ],
   "source": [
    "df_ans"
   ]
  },
  {
   "cell_type": "code",
   "execution_count": 226,
   "metadata": {},
   "outputs": [],
   "source": [
    "df_ans = df_ans.groupby(\"input\").agg({\n",
    "    'answer':list,\n",
    "    \"predict\": list,\n",
    "    \"bleu\" : list\n",
    "})"
   ]
  },
  {
   "cell_type": "code",
   "execution_count": 227,
   "metadata": {},
   "outputs": [],
   "source": [
    "df_ans = df_ans.reset_index()"
   ]
  },
  {
   "cell_type": "code",
   "execution_count": 228,
   "metadata": {},
   "outputs": [
    {
     "data": {
      "text/html": [
       "<div>\n",
       "<style scoped>\n",
       "    .dataframe tbody tr th:only-of-type {\n",
       "        vertical-align: middle;\n",
       "    }\n",
       "\n",
       "    .dataframe tbody tr th {\n",
       "        vertical-align: top;\n",
       "    }\n",
       "\n",
       "    .dataframe thead th {\n",
       "        text-align: right;\n",
       "    }\n",
       "</style>\n",
       "<table border=\"1\" class=\"dataframe\">\n",
       "  <thead>\n",
       "    <tr style=\"text-align: right;\">\n",
       "      <th></th>\n",
       "      <th>input</th>\n",
       "      <th>answer</th>\n",
       "      <th>predict</th>\n",
       "      <th>bleu</th>\n",
       "    </tr>\n",
       "  </thead>\n",
       "  <tbody>\n",
       "    <tr>\n",
       "      <th>0</th>\n",
       "      <td>11時半頃</td>\n",
       "      <td>[いらっしゃったうーん, 十一時半に]</td>\n",
       "      <td>[あー, あー]</td>\n",
       "      <td>[0, 0]</td>\n",
       "    </tr>\n",
       "    <tr>\n",
       "      <th>1</th>\n",
       "      <td>15分ぐらいまで</td>\n",
       "      <td>[あっ, 十五分]</td>\n",
       "      <td>[あですです, あ]</td>\n",
       "      <td>[0, 0]</td>\n",
       "    </tr>\n",
       "    <tr>\n",
       "      <th>2</th>\n",
       "      <td>15分ぐらいまで駅に</td>\n",
       "      <td>[あはい, 15分はい]</td>\n",
       "      <td>[そう, うーん]</td>\n",
       "      <td>[0, 0]</td>\n",
       "    </tr>\n",
       "    <tr>\n",
       "      <th>3</th>\n",
       "      <td>15分ぐらいまで駅に着くまでにかかりました</td>\n",
       "      <td>[はいだったんですねありがとう, はいうーんうん, ええあそうですねそうだったんですね, あ...</td>\n",
       "      <td>[そう, あえ, あーんですか, あー]</td>\n",
       "      <td>[0, 0, 0, 0]</td>\n",
       "    </tr>\n",
       "    <tr>\n",
       "      <th>4</th>\n",
       "      <td>15分前に</td>\n",
       "      <td>[あっ, 通りああ, や, 凄いです]</td>\n",
       "      <td>[へえ, あそうなんですか, あー, あーなんですか]</td>\n",
       "      <td>[0, 0, 0, 0]</td>\n",
       "    </tr>\n",
       "    <tr>\n",
       "      <th>...</th>\n",
       "      <td>...</td>\n",
       "      <td>...</td>\n",
       "      <td>...</td>\n",
       "      <td>...</td>\n",
       "    </tr>\n",
       "    <tr>\n",
       "      <th>7367</th>\n",
       "      <td>鳥を捕まえるという</td>\n",
       "      <td>[おー, えー, へー, 捕まえるんですか, ええええ, うん]</td>\n",
       "      <td>[あ, あそうですです, あーです, あそうなんですか, あ, あー]</td>\n",
       "      <td>[0, 0, 0, 0, 0, 0]</td>\n",
       "    </tr>\n",
       "    <tr>\n",
       "      <th>7368</th>\n",
       "      <td>鳥を捕まえるというそんな</td>\n",
       "      <td>[あはいそうですね, へえ, 鳥を, 鳥, 鳥をですか, 捕まえるんですね, へえ]</td>\n",
       "      <td>[はいありがとうございます嬉しかっふ, あそうなんですか, あそうなんですか, あそうですで...</td>\n",
       "      <td>[0, 0, 0, 0, 0, 0, 0]</td>\n",
       "    </tr>\n",
       "    <tr>\n",
       "      <th>7369</th>\n",
       "      <td>麹町番長の</td>\n",
       "      <td>[そうなんですね]</td>\n",
       "      <td>[あーです]</td>\n",
       "      <td>[0]</td>\n",
       "    </tr>\n",
       "    <tr>\n",
       "      <th>7370</th>\n",
       "      <td>麹町番長の大きなお屋敷のおー石造りのバルコニーみたいな部分だけ残っているとか</td>\n",
       "      <td>[あー, ああ, はー, そうなんですか]</td>\n",
       "      <td>[そう, あはいです, あです, あ]</td>\n",
       "      <td>[0, 0, 0, 0]</td>\n",
       "    </tr>\n",
       "    <tr>\n",
       "      <th>7371</th>\n",
       "      <td>麻雀をするとか</td>\n",
       "      <td>[あーおおおお, あーあはいはい, あ麻雀はい, あはい, あー麻雀も, 麻雀もおやりになる...</td>\n",
       "      <td>[あー, あーなんですか, あんですか, あ, あはい, あー]</td>\n",
       "      <td>[0, 0, 0, 0, 0, 0]</td>\n",
       "    </tr>\n",
       "  </tbody>\n",
       "</table>\n",
       "<p>7372 rows × 4 columns</p>\n",
       "</div>"
      ],
      "text/plain": [
       "                                       input  \\\n",
       "0                                      11時半頃   \n",
       "1                                   15分ぐらいまで   \n",
       "2                                 15分ぐらいまで駅に   \n",
       "3                      15分ぐらいまで駅に着くまでにかかりました   \n",
       "4                                      15分前に   \n",
       "...                                      ...   \n",
       "7367                               鳥を捕まえるという   \n",
       "7368                            鳥を捕まえるというそんな   \n",
       "7369                                   麹町番長の   \n",
       "7370  麹町番長の大きなお屋敷のおー石造りのバルコニーみたいな部分だけ残っているとか   \n",
       "7371                                 麻雀をするとか   \n",
       "\n",
       "                                                 answer  \\\n",
       "0                                   [いらっしゃったうーん, 十一時半に]   \n",
       "1                                             [あっ, 十五分]   \n",
       "2                                          [あはい, 15分はい]   \n",
       "3     [はいだったんですねありがとう, はいうーんうん, ええあそうですねそうだったんですね, あ...   \n",
       "4                                   [あっ, 通りああ, や, 凄いです]   \n",
       "...                                                 ...   \n",
       "7367                   [おー, えー, へー, 捕まえるんですか, ええええ, うん]   \n",
       "7368         [あはいそうですね, へえ, 鳥を, 鳥, 鳥をですか, 捕まえるんですね, へえ]   \n",
       "7369                                          [そうなんですね]   \n",
       "7370                              [あー, ああ, はー, そうなんですか]   \n",
       "7371  [あーおおおお, あーあはいはい, あ麻雀はい, あはい, あー麻雀も, 麻雀もおやりになる...   \n",
       "\n",
       "                                                predict                   bleu  \n",
       "0                                              [あー, あー]                 [0, 0]  \n",
       "1                                            [あですです, あ]                 [0, 0]  \n",
       "2                                             [そう, うーん]                 [0, 0]  \n",
       "3                                  [そう, あえ, あーんですか, あー]           [0, 0, 0, 0]  \n",
       "4                           [へえ, あそうなんですか, あー, あーなんですか]           [0, 0, 0, 0]  \n",
       "...                                                 ...                    ...  \n",
       "7367                [あ, あそうですです, あーです, あそうなんですか, あ, あー]     [0, 0, 0, 0, 0, 0]  \n",
       "7368  [はいありがとうございます嬉しかっふ, あそうなんですか, あそうなんですか, あそうですで...  [0, 0, 0, 0, 0, 0, 0]  \n",
       "7369                                             [あーです]                    [0]  \n",
       "7370                                [そう, あはいです, あです, あ]           [0, 0, 0, 0]  \n",
       "7371                   [あー, あーなんですか, あんですか, あ, あはい, あー]     [0, 0, 0, 0, 0, 0]  \n",
       "\n",
       "[7372 rows x 4 columns]"
      ]
     },
     "execution_count": 228,
     "metadata": {},
     "output_type": "execute_result"
    }
   ],
   "source": [
    "df_ans"
   ]
  },
  {
   "cell_type": "code",
   "execution_count": 229,
   "metadata": {},
   "outputs": [],
   "source": []
  },
  {
   "cell_type": "code",
   "execution_count": 230,
   "metadata": {},
   "outputs": [
    {
     "data": {
      "text/plain": [
       "7372"
      ]
     },
     "execution_count": 230,
     "metadata": {},
     "output_type": "execute_result"
    }
   ],
   "source": [
    "len(df_ans)"
   ]
  },
  {
   "cell_type": "code",
   "execution_count": 231,
   "metadata": {},
   "outputs": [
    {
     "name": "stderr",
     "output_type": "stream",
     "text": [
      "C:\\Users\\keisc\\anaconda3\\envs\\study\\lib\\site-packages\\nltk\\translate\\bleu_score.py:516: UserWarning: \n",
      "The hypothesis contains 0 counts of 2-gram overlaps.\n",
      "Therefore the BLEU score evaluates to 0, independently of\n",
      "how many N-gram overlaps of lower order it contains.\n",
      "Consider using lower n-gram order or use SmoothingFunction()\n",
      "  warnings.warn(_msg)\n",
      "C:\\Users\\keisc\\anaconda3\\envs\\study\\lib\\site-packages\\nltk\\translate\\bleu_score.py:516: UserWarning: \n",
      "The hypothesis contains 0 counts of 3-gram overlaps.\n",
      "Therefore the BLEU score evaluates to 0, independently of\n",
      "how many N-gram overlaps of lower order it contains.\n",
      "Consider using lower n-gram order or use SmoothingFunction()\n",
      "  warnings.warn(_msg)\n",
      "C:\\Users\\keisc\\anaconda3\\envs\\study\\lib\\site-packages\\nltk\\translate\\bleu_score.py:516: UserWarning: \n",
      "The hypothesis contains 0 counts of 4-gram overlaps.\n",
      "Therefore the BLEU score evaluates to 0, independently of\n",
      "how many N-gram overlaps of lower order it contains.\n",
      "Consider using lower n-gram order or use SmoothingFunction()\n",
      "  warnings.warn(_msg)\n"
     ]
    }
   ],
   "source": [
    "col, ans, pred = [], [], []\n",
    "for k in range(len(df_ans)):\n",
    "    for j in range(len(df_ans[\"predict\"][k])):\n",
    "        \n",
    "        for i in range(len(df_ans[\"answer\"][k])):\n",
    "            ans_str = df_ans[\"answer\"][k][i]\n",
    "            ans.append(tokenizer(ans_str))\n",
    "        \n",
    "        #print(k)\n",
    "        pred = df_ans[\"predict\"][k][j]\n",
    "        #print(pred)\n",
    "        pred = tokenizer(pred)\n",
    "        col.append(nltk.translate.bleu_score.sentence_bleu(ans, pred))\n",
    "        ave = sum(col)/len(col)\n",
    "        #print(ave)\n",
    "        df_ans[\"bleu\"][k][j] = ave\n",
    "        col, ans = [], []\n",
    "    "
   ]
  },
  {
   "cell_type": "code",
   "execution_count": 232,
   "metadata": {},
   "outputs": [
    {
     "data": {
      "text/html": [
       "<div>\n",
       "<style scoped>\n",
       "    .dataframe tbody tr th:only-of-type {\n",
       "        vertical-align: middle;\n",
       "    }\n",
       "\n",
       "    .dataframe tbody tr th {\n",
       "        vertical-align: top;\n",
       "    }\n",
       "\n",
       "    .dataframe thead th {\n",
       "        text-align: right;\n",
       "    }\n",
       "</style>\n",
       "<table border=\"1\" class=\"dataframe\">\n",
       "  <thead>\n",
       "    <tr style=\"text-align: right;\">\n",
       "      <th></th>\n",
       "      <th>input</th>\n",
       "      <th>answer</th>\n",
       "      <th>predict</th>\n",
       "      <th>bleu</th>\n",
       "    </tr>\n",
       "  </thead>\n",
       "  <tbody>\n",
       "    <tr>\n",
       "      <th>0</th>\n",
       "      <td>11時半頃</td>\n",
       "      <td>[いらっしゃったうーん, 十一時半に]</td>\n",
       "      <td>[あー, あー]</td>\n",
       "      <td>[0.0, 0.0]</td>\n",
       "    </tr>\n",
       "    <tr>\n",
       "      <th>1</th>\n",
       "      <td>15分ぐらいまで</td>\n",
       "      <td>[あっ, 十五分]</td>\n",
       "      <td>[あですです, あ]</td>\n",
       "      <td>[0.0, 0.0]</td>\n",
       "    </tr>\n",
       "    <tr>\n",
       "      <th>2</th>\n",
       "      <td>15分ぐらいまで駅に</td>\n",
       "      <td>[あはい, 15分はい]</td>\n",
       "      <td>[そう, うーん]</td>\n",
       "      <td>[0.0, 0.0]</td>\n",
       "    </tr>\n",
       "    <tr>\n",
       "      <th>3</th>\n",
       "      <td>15分ぐらいまで駅に着くまでにかかりました</td>\n",
       "      <td>[はいだったんですねありがとう, はいうーんうん, ええあそうですねそうだったんですね, あ...</td>\n",
       "      <td>[そう, あえ, あーんですか, あー]</td>\n",
       "      <td>[2.4655814830110698e-232, 1.1049969584438628e-...</td>\n",
       "    </tr>\n",
       "    <tr>\n",
       "      <th>4</th>\n",
       "      <td>15分前に</td>\n",
       "      <td>[あっ, 通りああ, や, 凄いです]</td>\n",
       "      <td>[へえ, あそうなんですか, あー, あーなんですか]</td>\n",
       "      <td>[0.0, 1.1640469867513693e-231, 0.0, 1.21833248...</td>\n",
       "    </tr>\n",
       "    <tr>\n",
       "      <th>...</th>\n",
       "      <td>...</td>\n",
       "      <td>...</td>\n",
       "      <td>...</td>\n",
       "      <td>...</td>\n",
       "    </tr>\n",
       "    <tr>\n",
       "      <th>7367</th>\n",
       "      <td>鳥を捕まえるという</td>\n",
       "      <td>[おー, えー, へー, 捕まえるんですか, ええええ, うん]</td>\n",
       "      <td>[あ, あそうですです, あーです, あそうなんですか, あ, あー]</td>\n",
       "      <td>[0.0, 1.2882297539194154e-231, 1.5319719891192...</td>\n",
       "    </tr>\n",
       "    <tr>\n",
       "      <th>7368</th>\n",
       "      <td>鳥を捕まえるというそんな</td>\n",
       "      <td>[あはいそうですね, へえ, 鳥を, 鳥, 鳥をですか, 捕まえるんですね, へえ]</td>\n",
       "      <td>[はいありがとうございます嬉しかっふ, あそうなんですか, あそうなんですか, あそうですで...</td>\n",
       "      <td>[1.1640469867513693e-231, 1.0719249972567852e-...</td>\n",
       "    </tr>\n",
       "    <tr>\n",
       "      <th>7369</th>\n",
       "      <td>麹町番長の</td>\n",
       "      <td>[そうなんですね]</td>\n",
       "      <td>[あーです]</td>\n",
       "      <td>[3.418291552750845e-232]</td>\n",
       "    </tr>\n",
       "    <tr>\n",
       "      <th>7370</th>\n",
       "      <td>麹町番長の大きなお屋敷のおー石造りのバルコニーみたいな部分だけ残っているとか</td>\n",
       "      <td>[あー, ああ, はー, そうなんですか]</td>\n",
       "      <td>[そう, あはいです, あです, あ]</td>\n",
       "      <td>[1.821831989445342e-231, 1.384292958842266e-23...</td>\n",
       "    </tr>\n",
       "    <tr>\n",
       "      <th>7371</th>\n",
       "      <td>麻雀をするとか</td>\n",
       "      <td>[あーおおおお, あーあはいはい, あ麻雀はい, あはい, あー麻雀も, 麻雀もおやりになる...</td>\n",
       "      <td>[あー, あーなんですか, あんですか, あ, あはい, あー]</td>\n",
       "      <td>[6.702145341854094e-232, 9.283142785759642e-15...</td>\n",
       "    </tr>\n",
       "  </tbody>\n",
       "</table>\n",
       "<p>7372 rows × 4 columns</p>\n",
       "</div>"
      ],
      "text/plain": [
       "                                       input  \\\n",
       "0                                      11時半頃   \n",
       "1                                   15分ぐらいまで   \n",
       "2                                 15分ぐらいまで駅に   \n",
       "3                      15分ぐらいまで駅に着くまでにかかりました   \n",
       "4                                      15分前に   \n",
       "...                                      ...   \n",
       "7367                               鳥を捕まえるという   \n",
       "7368                            鳥を捕まえるというそんな   \n",
       "7369                                   麹町番長の   \n",
       "7370  麹町番長の大きなお屋敷のおー石造りのバルコニーみたいな部分だけ残っているとか   \n",
       "7371                                 麻雀をするとか   \n",
       "\n",
       "                                                 answer  \\\n",
       "0                                   [いらっしゃったうーん, 十一時半に]   \n",
       "1                                             [あっ, 十五分]   \n",
       "2                                          [あはい, 15分はい]   \n",
       "3     [はいだったんですねありがとう, はいうーんうん, ええあそうですねそうだったんですね, あ...   \n",
       "4                                   [あっ, 通りああ, や, 凄いです]   \n",
       "...                                                 ...   \n",
       "7367                   [おー, えー, へー, 捕まえるんですか, ええええ, うん]   \n",
       "7368         [あはいそうですね, へえ, 鳥を, 鳥, 鳥をですか, 捕まえるんですね, へえ]   \n",
       "7369                                          [そうなんですね]   \n",
       "7370                              [あー, ああ, はー, そうなんですか]   \n",
       "7371  [あーおおおお, あーあはいはい, あ麻雀はい, あはい, あー麻雀も, 麻雀もおやりになる...   \n",
       "\n",
       "                                                predict  \\\n",
       "0                                              [あー, あー]   \n",
       "1                                            [あですです, あ]   \n",
       "2                                             [そう, うーん]   \n",
       "3                                  [そう, あえ, あーんですか, あー]   \n",
       "4                           [へえ, あそうなんですか, あー, あーなんですか]   \n",
       "...                                                 ...   \n",
       "7367                [あ, あそうですです, あーです, あそうなんですか, あ, あー]   \n",
       "7368  [はいありがとうございます嬉しかっふ, あそうなんですか, あそうなんですか, あそうですで...   \n",
       "7369                                             [あーです]   \n",
       "7370                                [そう, あはいです, あです, あ]   \n",
       "7371                   [あー, あーなんですか, あんですか, あ, あはい, あー]   \n",
       "\n",
       "                                                   bleu  \n",
       "0                                            [0.0, 0.0]  \n",
       "1                                            [0.0, 0.0]  \n",
       "2                                            [0.0, 0.0]  \n",
       "3     [2.4655814830110698e-232, 1.1049969584438628e-...  \n",
       "4     [0.0, 1.1640469867513693e-231, 0.0, 1.21833248...  \n",
       "...                                                 ...  \n",
       "7367  [0.0, 1.2882297539194154e-231, 1.5319719891192...  \n",
       "7368  [1.1640469867513693e-231, 1.0719249972567852e-...  \n",
       "7369                           [3.418291552750845e-232]  \n",
       "7370  [1.821831989445342e-231, 1.384292958842266e-23...  \n",
       "7371  [6.702145341854094e-232, 9.283142785759642e-15...  \n",
       "\n",
       "[7372 rows x 4 columns]"
      ]
     },
     "execution_count": 232,
     "metadata": {},
     "output_type": "execute_result"
    }
   ],
   "source": [
    "df_ans"
   ]
  },
  {
   "cell_type": "code",
   "execution_count": 233,
   "metadata": {},
   "outputs": [],
   "source": [
    "input_str, answer, predict, bleu = [], [], [], []\n",
    "for i in range(len(df_ans)):\n",
    "    for j in range(len(df_ans[\"answer\"][i])):\n",
    "        input_str.append(df_ans[\"input\"][i])\n",
    "        answer.append(df_ans[\"answer\"][i][j])\n",
    "        predict.append(df_ans[\"predict\"][i][j])\n",
    "        bleu.append(df_ans[\"bleu\"][i][j])"
   ]
  },
  {
   "cell_type": "code",
   "execution_count": 234,
   "metadata": {},
   "outputs": [],
   "source": [
    "df = pd.DataFrame({\"input\":input_str,\"answer\":answer,\"predict\":predict,\"bleu\":bleu})"
   ]
  },
  {
   "cell_type": "code",
   "execution_count": 235,
   "metadata": {},
   "outputs": [
    {
     "data": {
      "text/html": [
       "<div>\n",
       "<style scoped>\n",
       "    .dataframe tbody tr th:only-of-type {\n",
       "        vertical-align: middle;\n",
       "    }\n",
       "\n",
       "    .dataframe tbody tr th {\n",
       "        vertical-align: top;\n",
       "    }\n",
       "\n",
       "    .dataframe thead th {\n",
       "        text-align: right;\n",
       "    }\n",
       "</style>\n",
       "<table border=\"1\" class=\"dataframe\">\n",
       "  <thead>\n",
       "    <tr style=\"text-align: right;\">\n",
       "      <th></th>\n",
       "      <th>input</th>\n",
       "      <th>answer</th>\n",
       "      <th>predict</th>\n",
       "      <th>bleu</th>\n",
       "    </tr>\n",
       "  </thead>\n",
       "  <tbody>\n",
       "    <tr>\n",
       "      <th>0</th>\n",
       "      <td>11時半頃</td>\n",
       "      <td>いらっしゃったうーん</td>\n",
       "      <td>あー</td>\n",
       "      <td>0.000000e+00</td>\n",
       "    </tr>\n",
       "    <tr>\n",
       "      <th>1</th>\n",
       "      <td>11時半頃</td>\n",
       "      <td>十一時半に</td>\n",
       "      <td>あー</td>\n",
       "      <td>0.000000e+00</td>\n",
       "    </tr>\n",
       "    <tr>\n",
       "      <th>2</th>\n",
       "      <td>15分ぐらいまで</td>\n",
       "      <td>あっ</td>\n",
       "      <td>あですです</td>\n",
       "      <td>0.000000e+00</td>\n",
       "    </tr>\n",
       "    <tr>\n",
       "      <th>3</th>\n",
       "      <td>15分ぐらいまで</td>\n",
       "      <td>十五分</td>\n",
       "      <td>あ</td>\n",
       "      <td>0.000000e+00</td>\n",
       "    </tr>\n",
       "    <tr>\n",
       "      <th>4</th>\n",
       "      <td>15分ぐらいまで駅に</td>\n",
       "      <td>あはい</td>\n",
       "      <td>そう</td>\n",
       "      <td>0.000000e+00</td>\n",
       "    </tr>\n",
       "    <tr>\n",
       "      <th>...</th>\n",
       "      <td>...</td>\n",
       "      <td>...</td>\n",
       "      <td>...</td>\n",
       "      <td>...</td>\n",
       "    </tr>\n",
       "    <tr>\n",
       "      <th>21135</th>\n",
       "      <td>麻雀をするとか</td>\n",
       "      <td>あーあはいはい</td>\n",
       "      <td>あーなんですか</td>\n",
       "      <td>9.283143e-155</td>\n",
       "    </tr>\n",
       "    <tr>\n",
       "      <th>21136</th>\n",
       "      <td>麻雀をするとか</td>\n",
       "      <td>あ麻雀はい</td>\n",
       "      <td>あんですか</td>\n",
       "      <td>1.054769e-154</td>\n",
       "    </tr>\n",
       "    <tr>\n",
       "      <th>21137</th>\n",
       "      <td>麻雀をするとか</td>\n",
       "      <td>あはい</td>\n",
       "      <td>あ</td>\n",
       "      <td>6.702145e-232</td>\n",
       "    </tr>\n",
       "    <tr>\n",
       "      <th>21138</th>\n",
       "      <td>麻雀をするとか</td>\n",
       "      <td>あー麻雀も</td>\n",
       "      <td>あはい</td>\n",
       "      <td>1.491668e-154</td>\n",
       "    </tr>\n",
       "    <tr>\n",
       "      <th>21139</th>\n",
       "      <td>麻雀をするとか</td>\n",
       "      <td>麻雀もおやりになるんですね</td>\n",
       "      <td>あー</td>\n",
       "      <td>6.702145e-232</td>\n",
       "    </tr>\n",
       "  </tbody>\n",
       "</table>\n",
       "<p>21140 rows × 4 columns</p>\n",
       "</div>"
      ],
      "text/plain": [
       "            input         answer  predict           bleu\n",
       "0           11時半頃     いらっしゃったうーん       あー   0.000000e+00\n",
       "1           11時半頃          十一時半に       あー   0.000000e+00\n",
       "2        15分ぐらいまで             あっ    あですです   0.000000e+00\n",
       "3        15分ぐらいまで            十五分        あ   0.000000e+00\n",
       "4      15分ぐらいまで駅に            あはい       そう   0.000000e+00\n",
       "...           ...            ...      ...            ...\n",
       "21135     麻雀をするとか        あーあはいはい  あーなんですか  9.283143e-155\n",
       "21136     麻雀をするとか          あ麻雀はい    あんですか  1.054769e-154\n",
       "21137     麻雀をするとか            あはい        あ  6.702145e-232\n",
       "21138     麻雀をするとか          あー麻雀も      あはい  1.491668e-154\n",
       "21139     麻雀をするとか  麻雀もおやりになるんですね       あー  6.702145e-232\n",
       "\n",
       "[21140 rows x 4 columns]"
      ]
     },
     "execution_count": 235,
     "metadata": {},
     "output_type": "execute_result"
    }
   ],
   "source": [
    "df"
   ]
  },
  {
   "cell_type": "code",
   "execution_count": 236,
   "metadata": {},
   "outputs": [],
   "source": [
    "df.to_csv('./score_seq2seq.csv')"
   ]
  },
  {
   "cell_type": "code",
   "execution_count": 237,
   "metadata": {},
   "outputs": [],
   "source": [
    "blue = df[\"bleu\"]"
   ]
  },
  {
   "cell_type": "code",
   "execution_count": 238,
   "metadata": {},
   "outputs": [],
   "source": [
    "l = blue.values.tolist()"
   ]
  },
  {
   "cell_type": "code",
   "execution_count": 239,
   "metadata": {},
   "outputs": [],
   "source": [
    "ave_blue = sum(l)/len(l)"
   ]
  },
  {
   "cell_type": "code",
   "execution_count": 240,
   "metadata": {},
   "outputs": [
    {
     "data": {
      "text/plain": [
       "0.021538383243622228"
      ]
     },
     "execution_count": 240,
     "metadata": {},
     "output_type": "execute_result"
    }
   ],
   "source": [
    "ave_blue"
   ]
  }
 ],
 "metadata": {
  "kernelspec": {
   "display_name": "Python 3",
   "language": "python",
   "name": "python3"
  },
  "language_info": {
   "codemirror_mode": {
    "name": "ipython",
    "version": 3
   },
   "file_extension": ".py",
   "mimetype": "text/x-python",
   "name": "python",
   "nbconvert_exporter": "python",
   "pygments_lexer": "ipython3",
   "version": "3.7.1"
  }
 },
 "nbformat": 4,
 "nbformat_minor": 4
}
